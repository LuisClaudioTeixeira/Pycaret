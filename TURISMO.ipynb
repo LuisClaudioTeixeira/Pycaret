{
 "cells": [
  {
   "cell_type": "code",
   "execution_count": 456,
   "id": "0c8c480d",
   "metadata": {},
   "outputs": [],
   "source": [
    "import pycaret\n",
    "import pandas as pd\n",
    "from pycaret.datasets import get_data\n",
    "from pycaret.clustering import *"
   ]
  },
  {
   "cell_type": "code",
   "execution_count": 457,
   "id": "5a907012",
   "metadata": {},
   "outputs": [],
   "source": [
    "dataset = pd.read_excel('TURISMO2.xlsx')"
   ]
  },
  {
   "cell_type": "code",
   "execution_count": 458,
   "id": "2171c09c",
   "metadata": {},
   "outputs": [
    {
     "data": {
      "text/html": [
       "<div>\n",
       "<style scoped>\n",
       "    .dataframe tbody tr th:only-of-type {\n",
       "        vertical-align: middle;\n",
       "    }\n",
       "\n",
       "    .dataframe tbody tr th {\n",
       "        vertical-align: top;\n",
       "    }\n",
       "\n",
       "    .dataframe thead th {\n",
       "        text-align: right;\n",
       "    }\n",
       "</style>\n",
       "<table border=\"1\" class=\"dataframe\">\n",
       "  <thead>\n",
       "    <tr style=\"text-align: right;\">\n",
       "      <th></th>\n",
       "      <th>Código</th>\n",
       "      <th>Nome Município</th>\n",
       "      <th>SC_BAHIA</th>\n",
       "      <th>TURISMO</th>\n",
       "      <th>CATEGORIA</th>\n",
       "      <th>Habitantes</th>\n",
       "      <th>Porcetagem de Casos</th>\n",
       "      <th>Porcentagem arredondado</th>\n",
       "    </tr>\n",
       "  </thead>\n",
       "  <tbody>\n",
       "    <tr>\n",
       "      <th>0</th>\n",
       "      <td>290010</td>\n",
       "      <td>Abaíra</td>\n",
       "      <td>0</td>\n",
       "      <td>1</td>\n",
       "      <td>2</td>\n",
       "      <td>9199</td>\n",
       "      <td>0.000000</td>\n",
       "      <td>0.000</td>\n",
       "    </tr>\n",
       "    <tr>\n",
       "      <th>1</th>\n",
       "      <td>290020</td>\n",
       "      <td>Abaré</td>\n",
       "      <td>7</td>\n",
       "      <td>0</td>\n",
       "      <td>0</td>\n",
       "      <td>20189</td>\n",
       "      <td>0.034672</td>\n",
       "      <td>0.035</td>\n",
       "    </tr>\n",
       "    <tr>\n",
       "      <th>2</th>\n",
       "      <td>290030</td>\n",
       "      <td>Acajutiba</td>\n",
       "      <td>5</td>\n",
       "      <td>0</td>\n",
       "      <td>0</td>\n",
       "      <td>15727</td>\n",
       "      <td>0.031792</td>\n",
       "      <td>0.032</td>\n",
       "    </tr>\n",
       "    <tr>\n",
       "      <th>3</th>\n",
       "      <td>290035</td>\n",
       "      <td>Adustina</td>\n",
       "      <td>1</td>\n",
       "      <td>1</td>\n",
       "      <td>2</td>\n",
       "      <td>17349</td>\n",
       "      <td>0.005764</td>\n",
       "      <td>0.006</td>\n",
       "    </tr>\n",
       "    <tr>\n",
       "      <th>4</th>\n",
       "      <td>290040</td>\n",
       "      <td>Água Fria</td>\n",
       "      <td>9</td>\n",
       "      <td>0</td>\n",
       "      <td>0</td>\n",
       "      <td>17508</td>\n",
       "      <td>0.051405</td>\n",
       "      <td>0.051</td>\n",
       "    </tr>\n",
       "    <tr>\n",
       "      <th>...</th>\n",
       "      <td>...</td>\n",
       "      <td>...</td>\n",
       "      <td>...</td>\n",
       "      <td>...</td>\n",
       "      <td>...</td>\n",
       "      <td>...</td>\n",
       "      <td>...</td>\n",
       "      <td>...</td>\n",
       "    </tr>\n",
       "    <tr>\n",
       "      <th>412</th>\n",
       "      <td>293330</td>\n",
       "      <td>Vitória da Conquista</td>\n",
       "      <td>173</td>\n",
       "      <td>1</td>\n",
       "      <td>4</td>\n",
       "      <td>348718</td>\n",
       "      <td>0.049610</td>\n",
       "      <td>0.050</td>\n",
       "    </tr>\n",
       "    <tr>\n",
       "      <th>413</th>\n",
       "      <td>293340</td>\n",
       "      <td>Wagner</td>\n",
       "      <td>1</td>\n",
       "      <td>0</td>\n",
       "      <td>0</td>\n",
       "      <td>9753</td>\n",
       "      <td>0.010253</td>\n",
       "      <td>0.010</td>\n",
       "    </tr>\n",
       "    <tr>\n",
       "      <th>414</th>\n",
       "      <td>293345</td>\n",
       "      <td>Wanderley</td>\n",
       "      <td>1</td>\n",
       "      <td>0</td>\n",
       "      <td>0</td>\n",
       "      <td>12935</td>\n",
       "      <td>0.007731</td>\n",
       "      <td>0.008</td>\n",
       "    </tr>\n",
       "    <tr>\n",
       "      <th>415</th>\n",
       "      <td>293350</td>\n",
       "      <td>Wenceslau Guimarães</td>\n",
       "      <td>7</td>\n",
       "      <td>0</td>\n",
       "      <td>0</td>\n",
       "      <td>22365</td>\n",
       "      <td>0.031299</td>\n",
       "      <td>0.031</td>\n",
       "    </tr>\n",
       "    <tr>\n",
       "      <th>416</th>\n",
       "      <td>293360</td>\n",
       "      <td>Xique-Xique</td>\n",
       "      <td>31</td>\n",
       "      <td>0</td>\n",
       "      <td>0</td>\n",
       "      <td>48365</td>\n",
       "      <td>0.064096</td>\n",
       "      <td>0.064</td>\n",
       "    </tr>\n",
       "  </tbody>\n",
       "</table>\n",
       "<p>417 rows × 8 columns</p>\n",
       "</div>"
      ],
      "text/plain": [
       "     Código        Nome Município  SC_BAHIA  TURISMO  CATEGORIA  Habitantes  \\\n",
       "0    290010                Abaíra         0        1          2        9199   \n",
       "1    290020                 Abaré         7        0          0       20189   \n",
       "2    290030             Acajutiba         5        0          0       15727   \n",
       "3    290035              Adustina         1        1          2       17349   \n",
       "4    290040             Água Fria         9        0          0       17508   \n",
       "..      ...                   ...       ...      ...        ...         ...   \n",
       "412  293330  Vitória da Conquista       173        1          4      348718   \n",
       "413  293340                Wagner         1        0          0        9753   \n",
       "414  293345             Wanderley         1        0          0       12935   \n",
       "415  293350   Wenceslau Guimarães         7        0          0       22365   \n",
       "416  293360           Xique-Xique        31        0          0       48365   \n",
       "\n",
       "     Porcetagem de Casos  Porcentagem arredondado  \n",
       "0               0.000000                    0.000  \n",
       "1               0.034672                    0.035  \n",
       "2               0.031792                    0.032  \n",
       "3               0.005764                    0.006  \n",
       "4               0.051405                    0.051  \n",
       "..                   ...                      ...  \n",
       "412             0.049610                    0.050  \n",
       "413             0.010253                    0.010  \n",
       "414             0.007731                    0.008  \n",
       "415             0.031299                    0.031  \n",
       "416             0.064096                    0.064  \n",
       "\n",
       "[417 rows x 8 columns]"
      ]
     },
     "execution_count": 458,
     "metadata": {},
     "output_type": "execute_result"
    }
   ],
   "source": [
    "dataset"
   ]
  },
  {
   "cell_type": "code",
   "execution_count": 459,
   "id": "4f0ca80c",
   "metadata": {
    "scrolled": false
   },
   "outputs": [
    {
     "data": {
      "text/html": [
       "<style type=\"text/css\">\n",
       "#T_b5154_row6_col1, #T_b5154_row12_col1 {\n",
       "  background-color: lightgreen;\n",
       "}\n",
       "</style>\n",
       "<table id=\"T_b5154\">\n",
       "  <thead>\n",
       "    <tr>\n",
       "      <th class=\"blank level0\" >&nbsp;</th>\n",
       "      <th id=\"T_b5154_level0_col0\" class=\"col_heading level0 col0\" >Description</th>\n",
       "      <th id=\"T_b5154_level0_col1\" class=\"col_heading level0 col1\" >Value</th>\n",
       "    </tr>\n",
       "  </thead>\n",
       "  <tbody>\n",
       "    <tr>\n",
       "      <th id=\"T_b5154_level0_row0\" class=\"row_heading level0 row0\" >0</th>\n",
       "      <td id=\"T_b5154_row0_col0\" class=\"data row0 col0\" >Session id</td>\n",
       "      <td id=\"T_b5154_row0_col1\" class=\"data row0 col1\" >1011</td>\n",
       "    </tr>\n",
       "    <tr>\n",
       "      <th id=\"T_b5154_level0_row1\" class=\"row_heading level0 row1\" >1</th>\n",
       "      <td id=\"T_b5154_row1_col0\" class=\"data row1 col0\" >Original data shape</td>\n",
       "      <td id=\"T_b5154_row1_col1\" class=\"data row1 col1\" >(417, 8)</td>\n",
       "    </tr>\n",
       "    <tr>\n",
       "      <th id=\"T_b5154_level0_row2\" class=\"row_heading level0 row2\" >2</th>\n",
       "      <td id=\"T_b5154_row2_col0\" class=\"data row2 col0\" >Transformed data shape</td>\n",
       "      <td id=\"T_b5154_row2_col1\" class=\"data row2 col1\" >(417, 418)</td>\n",
       "    </tr>\n",
       "    <tr>\n",
       "      <th id=\"T_b5154_level0_row3\" class=\"row_heading level0 row3\" >3</th>\n",
       "      <td id=\"T_b5154_row3_col0\" class=\"data row3 col0\" >Ignore features</td>\n",
       "      <td id=\"T_b5154_row3_col1\" class=\"data row3 col1\" >6</td>\n",
       "    </tr>\n",
       "    <tr>\n",
       "      <th id=\"T_b5154_level0_row4\" class=\"row_heading level0 row4\" >4</th>\n",
       "      <td id=\"T_b5154_row4_col0\" class=\"data row4 col0\" >Numeric features</td>\n",
       "      <td id=\"T_b5154_row4_col1\" class=\"data row4 col1\" >1</td>\n",
       "    </tr>\n",
       "    <tr>\n",
       "      <th id=\"T_b5154_level0_row5\" class=\"row_heading level0 row5\" >5</th>\n",
       "      <td id=\"T_b5154_row5_col0\" class=\"data row5 col0\" >Categorical features</td>\n",
       "      <td id=\"T_b5154_row5_col1\" class=\"data row5 col1\" >1</td>\n",
       "    </tr>\n",
       "    <tr>\n",
       "      <th id=\"T_b5154_level0_row6\" class=\"row_heading level0 row6\" >6</th>\n",
       "      <td id=\"T_b5154_row6_col0\" class=\"data row6 col0\" >Preprocess</td>\n",
       "      <td id=\"T_b5154_row6_col1\" class=\"data row6 col1\" >True</td>\n",
       "    </tr>\n",
       "    <tr>\n",
       "      <th id=\"T_b5154_level0_row7\" class=\"row_heading level0 row7\" >7</th>\n",
       "      <td id=\"T_b5154_row7_col0\" class=\"data row7 col0\" >Imputation type</td>\n",
       "      <td id=\"T_b5154_row7_col1\" class=\"data row7 col1\" >simple</td>\n",
       "    </tr>\n",
       "    <tr>\n",
       "      <th id=\"T_b5154_level0_row8\" class=\"row_heading level0 row8\" >8</th>\n",
       "      <td id=\"T_b5154_row8_col0\" class=\"data row8 col0\" >Numeric imputation</td>\n",
       "      <td id=\"T_b5154_row8_col1\" class=\"data row8 col1\" >mean</td>\n",
       "    </tr>\n",
       "    <tr>\n",
       "      <th id=\"T_b5154_level0_row9\" class=\"row_heading level0 row9\" >9</th>\n",
       "      <td id=\"T_b5154_row9_col0\" class=\"data row9 col0\" >Categorical imputation</td>\n",
       "      <td id=\"T_b5154_row9_col1\" class=\"data row9 col1\" >mode</td>\n",
       "    </tr>\n",
       "    <tr>\n",
       "      <th id=\"T_b5154_level0_row10\" class=\"row_heading level0 row10\" >10</th>\n",
       "      <td id=\"T_b5154_row10_col0\" class=\"data row10 col0\" >Maximum one-hot encoding</td>\n",
       "      <td id=\"T_b5154_row10_col1\" class=\"data row10 col1\" >-1</td>\n",
       "    </tr>\n",
       "    <tr>\n",
       "      <th id=\"T_b5154_level0_row11\" class=\"row_heading level0 row11\" >11</th>\n",
       "      <td id=\"T_b5154_row11_col0\" class=\"data row11 col0\" >Encoding method</td>\n",
       "      <td id=\"T_b5154_row11_col1\" class=\"data row11 col1\" >None</td>\n",
       "    </tr>\n",
       "    <tr>\n",
       "      <th id=\"T_b5154_level0_row12\" class=\"row_heading level0 row12\" >12</th>\n",
       "      <td id=\"T_b5154_row12_col0\" class=\"data row12 col0\" >Normalize</td>\n",
       "      <td id=\"T_b5154_row12_col1\" class=\"data row12 col1\" >True</td>\n",
       "    </tr>\n",
       "    <tr>\n",
       "      <th id=\"T_b5154_level0_row13\" class=\"row_heading level0 row13\" >13</th>\n",
       "      <td id=\"T_b5154_row13_col0\" class=\"data row13 col0\" >Normalize method</td>\n",
       "      <td id=\"T_b5154_row13_col1\" class=\"data row13 col1\" >zscore</td>\n",
       "    </tr>\n",
       "    <tr>\n",
       "      <th id=\"T_b5154_level0_row14\" class=\"row_heading level0 row14\" >14</th>\n",
       "      <td id=\"T_b5154_row14_col0\" class=\"data row14 col0\" >CPU Jobs</td>\n",
       "      <td id=\"T_b5154_row14_col1\" class=\"data row14 col1\" >-1</td>\n",
       "    </tr>\n",
       "    <tr>\n",
       "      <th id=\"T_b5154_level0_row15\" class=\"row_heading level0 row15\" >15</th>\n",
       "      <td id=\"T_b5154_row15_col0\" class=\"data row15 col0\" >Use GPU</td>\n",
       "      <td id=\"T_b5154_row15_col1\" class=\"data row15 col1\" >False</td>\n",
       "    </tr>\n",
       "    <tr>\n",
       "      <th id=\"T_b5154_level0_row16\" class=\"row_heading level0 row16\" >16</th>\n",
       "      <td id=\"T_b5154_row16_col0\" class=\"data row16 col0\" >Log Experiment</td>\n",
       "      <td id=\"T_b5154_row16_col1\" class=\"data row16 col1\" >False</td>\n",
       "    </tr>\n",
       "    <tr>\n",
       "      <th id=\"T_b5154_level0_row17\" class=\"row_heading level0 row17\" >17</th>\n",
       "      <td id=\"T_b5154_row17_col0\" class=\"data row17 col0\" >Experiment Name</td>\n",
       "      <td id=\"T_b5154_row17_col1\" class=\"data row17 col1\" >cluster-default-name</td>\n",
       "    </tr>\n",
       "    <tr>\n",
       "      <th id=\"T_b5154_level0_row18\" class=\"row_heading level0 row18\" >18</th>\n",
       "      <td id=\"T_b5154_row18_col0\" class=\"data row18 col0\" >USI</td>\n",
       "      <td id=\"T_b5154_row18_col1\" class=\"data row18 col1\" >7c67</td>\n",
       "    </tr>\n",
       "  </tbody>\n",
       "</table>\n"
      ],
      "text/plain": [
       "<pandas.io.formats.style.Styler at 0x272662033d0>"
      ]
     },
     "metadata": {},
     "output_type": "display_data"
    },
    {
     "data": {
      "text/plain": [
       "<pycaret.clustering.oop.ClusteringExperiment at 0x27267733010>"
      ]
     },
     "execution_count": 459,
     "metadata": {},
     "output_type": "execute_result"
    }
   ],
   "source": [
    "setup(dataset, normalize=True, ignore_features=['SC_BAHIA','CATEGORIA','TURISMO', 'Código', 'Habitantes'])"
   ]
  },
  {
   "cell_type": "code",
   "execution_count": 460,
   "id": "c8185f2e",
   "metadata": {
    "scrolled": true
   },
   "outputs": [
    {
     "data": {
      "text/html": [
       "<div>\n",
       "<style scoped>\n",
       "    .dataframe tbody tr th:only-of-type {\n",
       "        vertical-align: middle;\n",
       "    }\n",
       "\n",
       "    .dataframe tbody tr th {\n",
       "        vertical-align: top;\n",
       "    }\n",
       "\n",
       "    .dataframe thead th {\n",
       "        text-align: right;\n",
       "    }\n",
       "</style>\n",
       "<table border=\"1\" class=\"dataframe\">\n",
       "  <thead>\n",
       "    <tr style=\"text-align: right;\">\n",
       "      <th></th>\n",
       "      <th>Name</th>\n",
       "      <th>Reference</th>\n",
       "    </tr>\n",
       "    <tr>\n",
       "      <th>ID</th>\n",
       "      <th></th>\n",
       "      <th></th>\n",
       "    </tr>\n",
       "  </thead>\n",
       "  <tbody>\n",
       "    <tr>\n",
       "      <th>kmeans</th>\n",
       "      <td>K-Means Clustering</td>\n",
       "      <td>sklearn.cluster._kmeans.KMeans</td>\n",
       "    </tr>\n",
       "    <tr>\n",
       "      <th>ap</th>\n",
       "      <td>Affinity Propagation</td>\n",
       "      <td>sklearn.cluster._affinity_propagation.Affinity...</td>\n",
       "    </tr>\n",
       "    <tr>\n",
       "      <th>meanshift</th>\n",
       "      <td>Mean Shift Clustering</td>\n",
       "      <td>sklearn.cluster._mean_shift.MeanShift</td>\n",
       "    </tr>\n",
       "    <tr>\n",
       "      <th>sc</th>\n",
       "      <td>Spectral Clustering</td>\n",
       "      <td>sklearn.cluster._spectral.SpectralClustering</td>\n",
       "    </tr>\n",
       "    <tr>\n",
       "      <th>hclust</th>\n",
       "      <td>Agglomerative Clustering</td>\n",
       "      <td>sklearn.cluster._agglomerative.AgglomerativeCl...</td>\n",
       "    </tr>\n",
       "    <tr>\n",
       "      <th>dbscan</th>\n",
       "      <td>Density-Based Spatial Clustering</td>\n",
       "      <td>sklearn.cluster._dbscan.DBSCAN</td>\n",
       "    </tr>\n",
       "    <tr>\n",
       "      <th>optics</th>\n",
       "      <td>OPTICS Clustering</td>\n",
       "      <td>sklearn.cluster._optics.OPTICS</td>\n",
       "    </tr>\n",
       "    <tr>\n",
       "      <th>birch</th>\n",
       "      <td>Birch Clustering</td>\n",
       "      <td>sklearn.cluster._birch.Birch</td>\n",
       "    </tr>\n",
       "    <tr>\n",
       "      <th>kmodes</th>\n",
       "      <td>K-Modes Clustering</td>\n",
       "      <td>kmodes.kmodes.KModes</td>\n",
       "    </tr>\n",
       "  </tbody>\n",
       "</table>\n",
       "</div>"
      ],
      "text/plain": [
       "                                       Name  \\\n",
       "ID                                            \n",
       "kmeans                   K-Means Clustering   \n",
       "ap                     Affinity Propagation   \n",
       "meanshift             Mean Shift Clustering   \n",
       "sc                      Spectral Clustering   \n",
       "hclust             Agglomerative Clustering   \n",
       "dbscan     Density-Based Spatial Clustering   \n",
       "optics                    OPTICS Clustering   \n",
       "birch                      Birch Clustering   \n",
       "kmodes                   K-Modes Clustering   \n",
       "\n",
       "                                                   Reference  \n",
       "ID                                                            \n",
       "kmeans                        sklearn.cluster._kmeans.KMeans  \n",
       "ap         sklearn.cluster._affinity_propagation.Affinity...  \n",
       "meanshift              sklearn.cluster._mean_shift.MeanShift  \n",
       "sc              sklearn.cluster._spectral.SpectralClustering  \n",
       "hclust     sklearn.cluster._agglomerative.AgglomerativeCl...  \n",
       "dbscan                        sklearn.cluster._dbscan.DBSCAN  \n",
       "optics                        sklearn.cluster._optics.OPTICS  \n",
       "birch                           sklearn.cluster._birch.Birch  \n",
       "kmodes                                  kmodes.kmodes.KModes  "
      ]
     },
     "execution_count": 460,
     "metadata": {},
     "output_type": "execute_result"
    }
   ],
   "source": [
    "# to check all the available models\n",
    "models()"
   ]
  },
  {
   "cell_type": "code",
   "execution_count": 461,
   "id": "11576f41",
   "metadata": {
    "scrolled": false
   },
   "outputs": [
    {
     "data": {
      "text/html": [],
      "text/plain": [
       "<IPython.core.display.HTML object>"
      ]
     },
     "metadata": {},
     "output_type": "display_data"
    },
    {
     "data": {
      "text/html": [
       "<style type=\"text/css\">\n",
       "</style>\n",
       "<table id=\"T_29e5a\">\n",
       "  <thead>\n",
       "    <tr>\n",
       "      <th class=\"blank level0\" >&nbsp;</th>\n",
       "      <th id=\"T_29e5a_level0_col0\" class=\"col_heading level0 col0\" >Silhouette</th>\n",
       "      <th id=\"T_29e5a_level0_col1\" class=\"col_heading level0 col1\" >Calinski-Harabasz</th>\n",
       "      <th id=\"T_29e5a_level0_col2\" class=\"col_heading level0 col2\" >Davies-Bouldin</th>\n",
       "      <th id=\"T_29e5a_level0_col3\" class=\"col_heading level0 col3\" >Homogeneity</th>\n",
       "      <th id=\"T_29e5a_level0_col4\" class=\"col_heading level0 col4\" >Rand Index</th>\n",
       "      <th id=\"T_29e5a_level0_col5\" class=\"col_heading level0 col5\" >Completeness</th>\n",
       "    </tr>\n",
       "  </thead>\n",
       "  <tbody>\n",
       "    <tr>\n",
       "      <th id=\"T_29e5a_level0_row0\" class=\"row_heading level0 row0\" >0</th>\n",
       "      <td id=\"T_29e5a_row0_col0\" class=\"data row0 col0\" >0.0006</td>\n",
       "      <td id=\"T_29e5a_row0_col1\" class=\"data row0 col1\" >1.2877</td>\n",
       "      <td id=\"T_29e5a_row0_col2\" class=\"data row0 col2\" >11.9657</td>\n",
       "      <td id=\"T_29e5a_row0_col3\" class=\"data row0 col3\" >0</td>\n",
       "      <td id=\"T_29e5a_row0_col4\" class=\"data row0 col4\" >0</td>\n",
       "      <td id=\"T_29e5a_row0_col5\" class=\"data row0 col5\" >0</td>\n",
       "    </tr>\n",
       "  </tbody>\n",
       "</table>\n"
      ],
      "text/plain": [
       "<pandas.io.formats.style.Styler at 0x27266226bd0>"
      ]
     },
     "metadata": {},
     "output_type": "display_data"
    },
    {
     "data": {
      "text/html": [],
      "text/plain": [
       "<IPython.core.display.HTML object>"
      ]
     },
     "metadata": {},
     "output_type": "display_data"
    }
   ],
   "source": [
    "# train kmeans model\n",
    "modelo = create_model('kmeans')"
   ]
  },
  {
   "cell_type": "code",
   "execution_count": 462,
   "id": "9b09a190",
   "metadata": {
    "scrolled": true
   },
   "outputs": [
    {
     "data": {
      "text/html": [
       "<div>\n",
       "<style scoped>\n",
       "    .dataframe tbody tr th:only-of-type {\n",
       "        vertical-align: middle;\n",
       "    }\n",
       "\n",
       "    .dataframe tbody tr th {\n",
       "        vertical-align: top;\n",
       "    }\n",
       "\n",
       "    .dataframe thead th {\n",
       "        text-align: right;\n",
       "    }\n",
       "</style>\n",
       "<table border=\"1\" class=\"dataframe\">\n",
       "  <thead>\n",
       "    <tr style=\"text-align: right;\">\n",
       "      <th></th>\n",
       "      <th>Nome Município</th>\n",
       "      <th>Porcetagem de Casos</th>\n",
       "      <th>Cluster</th>\n",
       "    </tr>\n",
       "  </thead>\n",
       "  <tbody>\n",
       "    <tr>\n",
       "      <th>0</th>\n",
       "      <td>Abaíra</td>\n",
       "      <td>0.000000</td>\n",
       "      <td>Cluster 1</td>\n",
       "    </tr>\n",
       "    <tr>\n",
       "      <th>1</th>\n",
       "      <td>Abaré</td>\n",
       "      <td>0.034672</td>\n",
       "      <td>Cluster 1</td>\n",
       "    </tr>\n",
       "    <tr>\n",
       "      <th>2</th>\n",
       "      <td>Acajutiba</td>\n",
       "      <td>0.031792</td>\n",
       "      <td>Cluster 1</td>\n",
       "    </tr>\n",
       "    <tr>\n",
       "      <th>3</th>\n",
       "      <td>Adustina</td>\n",
       "      <td>0.005764</td>\n",
       "      <td>Cluster 1</td>\n",
       "    </tr>\n",
       "    <tr>\n",
       "      <th>4</th>\n",
       "      <td>Água Fria</td>\n",
       "      <td>0.051405</td>\n",
       "      <td>Cluster 2</td>\n",
       "    </tr>\n",
       "    <tr>\n",
       "      <th>...</th>\n",
       "      <td>...</td>\n",
       "      <td>...</td>\n",
       "      <td>...</td>\n",
       "    </tr>\n",
       "    <tr>\n",
       "      <th>412</th>\n",
       "      <td>Vitória da Conquista</td>\n",
       "      <td>0.049610</td>\n",
       "      <td>Cluster 2</td>\n",
       "    </tr>\n",
       "    <tr>\n",
       "      <th>413</th>\n",
       "      <td>Wagner</td>\n",
       "      <td>0.010253</td>\n",
       "      <td>Cluster 1</td>\n",
       "    </tr>\n",
       "    <tr>\n",
       "      <th>414</th>\n",
       "      <td>Wanderley</td>\n",
       "      <td>0.007731</td>\n",
       "      <td>Cluster 1</td>\n",
       "    </tr>\n",
       "    <tr>\n",
       "      <th>415</th>\n",
       "      <td>Wenceslau Guimarães</td>\n",
       "      <td>0.031299</td>\n",
       "      <td>Cluster 1</td>\n",
       "    </tr>\n",
       "    <tr>\n",
       "      <th>416</th>\n",
       "      <td>Xique-Xique</td>\n",
       "      <td>0.064096</td>\n",
       "      <td>Cluster 2</td>\n",
       "    </tr>\n",
       "  </tbody>\n",
       "</table>\n",
       "<p>417 rows × 3 columns</p>\n",
       "</div>"
      ],
      "text/plain": [
       "           Nome Município  Porcetagem de Casos    Cluster\n",
       "0                  Abaíra             0.000000  Cluster 1\n",
       "1                   Abaré             0.034672  Cluster 1\n",
       "2               Acajutiba             0.031792  Cluster 1\n",
       "3                Adustina             0.005764  Cluster 1\n",
       "4               Água Fria             0.051405  Cluster 2\n",
       "..                    ...                  ...        ...\n",
       "412  Vitória da Conquista             0.049610  Cluster 2\n",
       "413                Wagner             0.010253  Cluster 1\n",
       "414             Wanderley             0.007731  Cluster 1\n",
       "415   Wenceslau Guimarães             0.031299  Cluster 1\n",
       "416           Xique-Xique             0.064096  Cluster 2\n",
       "\n",
       "[417 rows x 3 columns]"
      ]
     },
     "execution_count": 462,
     "metadata": {},
     "output_type": "execute_result"
    }
   ],
   "source": [
    "cluster = assign_model(modelo)\n",
    "cluster"
   ]
  },
  {
   "cell_type": "code",
   "execution_count": 463,
   "id": "0d4225f4",
   "metadata": {
    "scrolled": false
   },
   "outputs": [
    {
     "data": {
      "text/html": [],
      "text/plain": [
       "<IPython.core.display.HTML object>"
      ]
     },
     "metadata": {},
     "output_type": "display_data"
    },
    {
     "data": {
      "application/vnd.plotly.v1+json": {
       "config": {
        "plotlyServerURL": "https://plot.ly"
       },
       "data": [
        {
         "alignmentgroup": "True",
         "bingroup": "x",
         "hovertemplate": "Cluster=Cluster 0<br>Porcetagem de Casos=%{x}<br>count=%{y}<extra></extra>",
         "legendgroup": "Cluster 0",
         "marker": {
          "color": "#636efa",
          "opacity": 0.7,
          "pattern": {
           "shape": ""
          }
         },
         "name": "Cluster 0",
         "offsetgroup": "Cluster 0",
         "orientation": "v",
         "showlegend": true,
         "type": "histogram",
         "x": [
          0.081037275,
          0.07784472,
          0.07408563,
          0.09372423,
          0.07468759,
          0.09492169,
          0.102903344,
          0.09206847,
          0.084956534,
          0.07681803,
          0.102714084,
          0.08521589,
          0.07868461,
          0.08903587,
          0.100557856,
          0.09569378,
          0.08503401,
          0.078023404,
          0.08405323,
          0.09761191,
          0.08759428,
          0.07387707,
          0.082586125,
          0.08176007,
          0.080780104,
          0.08594667,
          0.0755287,
          0.08367438,
          0.08305648,
          0.09312071,
          0.09206562,
          0.095323764
         ],
         "xaxis": "x",
         "yaxis": "y"
        },
        {
         "alignmentgroup": "True",
         "customdata": [
          [
           "Itacaré",
           "Cluster 0"
          ],
          [
           "Nazaré",
           "Cluster 0"
          ],
          [
           "João Dourado",
           "Cluster 0"
          ],
          [
           "Cândido Sales",
           "Cluster 0"
          ],
          [
           "Candeias",
           "Cluster 0"
          ],
          [
           "Ibiquera",
           "Cluster 0"
          ],
          [
           "Simões Filho",
           "Cluster 0"
          ],
          [
           "Prado",
           "Cluster 0"
          ],
          [
           "Senhor do Bonfim",
           "Cluster 0"
          ],
          [
           "Dário Meira",
           "Cluster 0"
          ],
          [
           "Lauro de Freitas",
           "Cluster 0"
          ],
          [
           "Camaçari",
           "Cluster 0"
          ],
          [
           "Morro do Chapéu",
           "Cluster 0"
          ],
          [
           "Medeiros Neto",
           "Cluster 0"
          ],
          [
           "Rio Real",
           "Cluster 0"
          ],
          [
           "Rodelas",
           "Cluster 0"
          ],
          [
           "Tanquinho",
           "Cluster 0"
          ],
          [
           "Planalto",
           "Cluster 0"
          ],
          [
           "Santa Bárbara",
           "Cluster 0"
          ],
          [
           "Nova Viçosa",
           "Cluster 0"
          ],
          [
           "Itamaraju",
           "Cluster 0"
          ],
          [
           "Terra Nova",
           "Cluster 0"
          ],
          [
           "Itamari",
           "Cluster 0"
          ],
          [
           "Várzea Nova",
           "Cluster 0"
          ],
          [
           "Alagoinhas",
           "Cluster 0"
          ],
          [
           "Ipiaú",
           "Cluster 0"
          ],
          [
           "Vereda",
           "Cluster 0"
          ],
          [
           "Paulo Afonso",
           "Cluster 0"
          ],
          [
           "Nova Itarana",
           "Cluster 0"
          ],
          [
           "Uauá",
           "Cluster 0"
          ],
          [
           "Coração de Maria",
           "Cluster 0"
          ],
          [
           "Irecê",
           "Cluster 0"
          ]
         ],
         "hovertemplate": "Cluster=%{customdata[1]}<br>Porcetagem de Casos=%{x}<br>Nome Município=%{customdata[0]}<extra></extra>",
         "legendgroup": "Cluster 0",
         "marker": {
          "color": "#636efa"
         },
         "name": "Cluster 0",
         "notched": true,
         "offsetgroup": "Cluster 0",
         "showlegend": false,
         "type": "box",
         "x": [
          0.081037275,
          0.07784472,
          0.07408563,
          0.09372423,
          0.07468759,
          0.09492169,
          0.102903344,
          0.09206847,
          0.084956534,
          0.07681803,
          0.102714084,
          0.08521589,
          0.07868461,
          0.08903587,
          0.100557856,
          0.09569378,
          0.08503401,
          0.078023404,
          0.08405323,
          0.09761191,
          0.08759428,
          0.07387707,
          0.082586125,
          0.08176007,
          0.080780104,
          0.08594667,
          0.0755287,
          0.08367438,
          0.08305648,
          0.09312071,
          0.09206562,
          0.095323764
         ],
         "xaxis": "x2",
         "yaxis": "y2"
        },
        {
         "alignmentgroup": "True",
         "bingroup": "x",
         "hovertemplate": "Cluster=Cluster 1<br>Porcetagem de Casos=%{x}<br>count=%{y}<extra></extra>",
         "legendgroup": "Cluster 1",
         "marker": {
          "color": "#EF553B",
          "opacity": 0.7,
          "pattern": {
           "shape": ""
          }
         },
         "name": "Cluster 1",
         "offsetgroup": "Cluster 1",
         "orientation": "v",
         "showlegend": true,
         "type": "histogram",
         "x": [
          0.014534884,
          0.01601794,
          0.010440593,
          0.0019248166,
          0.027159153,
          0,
          0.008770007,
          0.024023062,
          0,
          0.018272182,
          0.025025025,
          0.02604845,
          0.034352455,
          0.012471161,
          0.009794,
          0.00799105,
          0,
          0.010526316,
          0.014314343,
          0.020879732,
          0.029418254,
          0.010043186,
          0.030437429,
          0.022441652,
          0.023778642,
          0.015936255,
          0.018742971,
          0.031246245,
          0.031298906,
          0,
          0,
          0.026318097,
          0,
          0.0067962483,
          0.030179568,
          0.023277467,
          0.02034588,
          0.014633433,
          0,
          0.013854253,
          0.02743108,
          0.025540175,
          0.025157232,
          0.012477385,
          0.032913685,
          0.030410983,
          0.02149151,
          0,
          0.011411617,
          0.019466614,
          0.033647377,
          0,
          0.031397175,
          0.016836435,
          0.019148605,
          0.0064186226,
          0.03084278,
          0.034376074,
          0.02124345,
          0.011102476,
          0.011253658,
          0,
          0.023459861,
          0.004434,
          0,
          0.004487122,
          0.022853225,
          0,
          0.007442137,
          0.021688838,
          0.020460235,
          0,
          0.012124519,
          0,
          0.017099863,
          0.009790004,
          0.022082368,
          0.02480979,
          0.030591954,
          0.031595577,
          0.019595036,
          0.0136587145,
          0.004389045,
          0,
          0.018766128,
          0.018637592,
          0.0077309627,
          0.010253255,
          0,
          0.03410176,
          0.024353756,
          0.02734205,
          0.03033367,
          0.0055915904,
          0,
          0.034544703,
          0.024038462,
          0.011419871,
          0.02259887,
          0.013023377,
          0.034220207,
          0.025201613,
          0.010244852,
          0.011883188,
          0.021591278,
          0.0036374219,
          0.025422651,
          0.0237023,
          0.031585597,
          0.012588751,
          0.010436235,
          0.007933045,
          0.009605225,
          0.01499925,
          0.009081002,
          0.011191942,
          0.018087544,
          0.02196716,
          0.026571011,
          0,
          0.018738873,
          0.012133345,
          0,
          0.0037661947,
          0.0034925956,
          0.010625863,
          0.028629432,
          0.028084628,
          0.021547081,
          0.014927601,
          0.02985966,
          0.0066773505,
          0.028117092,
          0.008244023,
          0,
          0,
          0.009096698,
          0.012950852,
          0.01097725,
          0.008624655,
          0.013577732,
          0.028121484,
          0.012732366,
          0,
          0.016423058,
          0.023200614,
          0.029937431,
          0.023070712,
          0.0056372965,
          0.026285354,
          0,
          0.03398567,
          0.032914586,
          0.02928129,
          0.005127679,
          0.028431302,
          0.03002462,
          0,
          0.026786312,
          0.026977608,
          0.027750798,
          0.008627383,
          0,
          0.020828994,
          0.006160291,
          0.0245459,
          0.01599744,
          0.007933989,
          0.02374169,
          0.019714793,
          0.023637868,
          0,
          0.011383363,
          0.020993477,
          0.021688446,
          0,
          0.035168957,
          0.013739409,
          0.011644155,
          0.02226056,
          0.035423934,
          0.008397363,
          0,
          0,
          0.017028362,
          0.021045985,
          0.013770311,
          0.027436348,
          0.02187705,
          0.01557956,
          0.006656017,
          0.035399195,
          0.0057407753,
          0,
          0.018613655,
          0,
          0,
          0,
          0.033157416,
          0.026451528,
          0.034650035,
          0.032789573,
          0.01911315,
          0.01835199,
          0,
          0.013354701,
          0.023349483,
          0.006640547,
          0.013550135,
          0.028634151,
          0.027255382,
          0.009231053,
          0.017176228,
          0,
          0.008893632,
          0.011296882,
          0.025726782,
          0.025634453,
          0.0059329574,
          0.014324595,
          0.010908694,
          0.033134528,
          0.01533037,
          0.026130129,
          0,
          0.018424124,
          0.028194826,
          0.010737679,
          0.024698474,
          0.027229408,
          0.01455922,
          0.010220769,
          0.01190618,
          0.016708437,
          0.00957992,
          0.02116402,
          0,
          0.013296104,
          0.02019998,
          0.00783208,
          0.005764021,
          0.03179246,
          0.034672346,
          0.025823113,
          0.012976059,
          0.007931472,
          0.021415569,
          0.014016727,
          0.0254842,
          0.032565713,
          0,
          0,
          0.02303935,
          0,
          0.022569288,
          0.021869076,
          0.019316953,
          0.008500149,
          0,
          0.023155294,
          0.013963555,
          0,
          0.0270807
         ],
         "xaxis": "x",
         "yaxis": "y"
        },
        {
         "alignmentgroup": "True",
         "customdata": [
          [
           "Miguel Calmon",
           "Cluster 1"
          ],
          [
           "Mirangaba",
           "Cluster 1"
          ],
          [
           "Mirante",
           "Cluster 1"
          ],
          [
           "Monte Santo",
           "Cluster 1"
          ],
          [
           "Mascote",
           "Cluster 1"
          ],
          [
           "Mortugaba",
           "Cluster 1"
          ],
          [
           "Oliveira dos Brejinhos",
           "Cluster 1"
          ],
          [
           "Matina",
           "Cluster 1"
          ],
          [
           "Nova Fátima",
           "Cluster 1"
          ],
          [
           "Mundo Novo",
           "Cluster 1"
          ],
          [
           "Mulungu do Morro",
           "Cluster 1"
          ],
          [
           "Muniz Ferreira",
           "Cluster 1"
          ],
          [
           "Muquém de São Francisco",
           "Cluster 1"
          ],
          [
           "Novo Triunfo",
           "Cluster 1"
          ],
          [
           "Muritiba",
           "Cluster 1"
          ],
          [
           "Novo Horizonte",
           "Cluster 1"
          ],
          [
           "Marcionílio Souza",
           "Cluster 1"
          ],
          [
           "Nova Redenção",
           "Cluster 1"
          ],
          [
           "Nova Ibiá",
           "Cluster 1"
          ],
          [
           "Nilo Peçanha",
           "Cluster 1"
          ],
          [
           "Nordestina",
           "Cluster 1"
          ],
          [
           "Mucugê",
           "Cluster 1"
          ],
          [
           "Mutuípe",
           "Cluster 1"
          ],
          [
           "Maetinga",
           "Cluster 1"
          ],
          [
           "Maragogipe",
           "Cluster 1"
          ],
          [
           "Jussari",
           "Cluster 1"
          ],
          [
           "Jussara",
           "Cluster 1"
          ],
          [
           "Jeremoabo",
           "Cluster 1"
          ],
          [
           "Wenceslau Guimarães",
           "Cluster 1"
          ],
          [
           "Jacaraci",
           "Cluster 1"
          ],
          [
           "Jaborandi",
           "Cluster 1"
          ],
          [
           "Iuiú",
           "Cluster 1"
          ],
          [
           "Jussiape",
           "Cluster 1"
          ],
          [
           "Ituberá",
           "Cluster 1"
          ],
          [
           "Itiruçu",
           "Cluster 1"
          ],
          [
           "Itaquara",
           "Cluster 1"
          ],
          [
           "Itapé",
           "Cluster 1"
          ],
          [
           "Itanhém",
           "Cluster 1"
          ],
          [
           "Itanagra",
           "Cluster 1"
          ],
          [
           "Itaju do Colônia",
           "Cluster 1"
          ],
          [
           "Itagimirim",
           "Cluster 1"
          ],
          [
           "Ituaçu",
           "Cluster 1"
          ],
          [
           "Lafaiete Coutinho",
           "Cluster 1"
          ],
          [
           "Lagoa Real",
           "Cluster 1"
          ],
          [
           "Laje",
           "Cluster 1"
          ],
          [
           "Maracás",
           "Cluster 1"
          ],
          [
           "Mansidão",
           "Cluster 1"
          ],
          [
           "Malhada de Pedras",
           "Cluster 1"
          ],
          [
           "Malhada",
           "Cluster 1"
          ],
          [
           "Maiquinique",
           "Cluster 1"
          ],
          [
           "Ouriçangas",
           "Cluster 1"
          ],
          [
           "Macaúbas",
           "Cluster 1"
          ],
          [
           "Macarani",
           "Cluster 1"
          ],
          [
           "Macajuba",
           "Cluster 1"
          ],
          [
           "Luís Eduardo Magalhães",
           "Cluster 1"
          ],
          [
           "Livramento de Nossa Senhora",
           "Cluster 1"
          ],
          [
           "Licínio de Almeida",
           "Cluster 1"
          ],
          [
           "Lençóis",
           "Cluster 1"
          ],
          [
           "Lapão",
           "Cluster 1"
          ],
          [
           "Lamarão",
           "Cluster 1"
          ],
          [
           "Lajedo do Tabocal",
           "Cluster 1"
          ],
          [
           "Lajedinho",
           "Cluster 1"
          ],
          [
           "Maraú",
           "Cluster 1"
          ],
          [
           "Palmas de Monte Alto",
           "Cluster 1"
          ],
          [
           "Abaíra",
           "Cluster 1"
          ],
          [
           "Paramirim",
           "Cluster 1"
          ],
          [
           "Souto Soares",
           "Cluster 1"
          ],
          [
           "Sítio do Quinto",
           "Cluster 1"
          ],
          [
           "Sítio do Mato",
           "Cluster 1"
          ],
          [
           "Serrolândia",
           "Cluster 1"
          ],
          [
           "Serrinha",
           "Cluster 1"
          ],
          [
           "Serra Dourada",
           "Cluster 1"
          ],
          [
           "Serra do Ramalho",
           "Cluster 1"
          ],
          [
           "Tabocas do Brejo Velho",
           "Cluster 1"
          ],
          [
           "Sebastião Laranjeiras",
           "Cluster 1"
          ],
          [
           "Sátiro Dias",
           "Cluster 1"
          ],
          [
           "Sapeaçu",
           "Cluster 1"
          ],
          [
           "São Miguel das Matas",
           "Cluster 1"
          ],
          [
           "São Gabriel",
           "Cluster 1"
          ],
          [
           "São Félix do Coribe",
           "Cluster 1"
          ],
          [
           "São Félix",
           "Cluster 1"
          ],
          [
           "São Felipe",
           "Cluster 1"
          ],
          [
           "Seabra",
           "Cluster 1"
          ],
          [
           "São Domingos",
           "Cluster 1"
          ],
          [
           "Tanhaçu",
           "Cluster 1"
          ],
          [
           "Taperoá",
           "Cluster 1"
          ],
          [
           "Wanderley",
           "Cluster 1"
          ],
          [
           "Wagner",
           "Cluster 1"
          ],
          [
           "Várzea do Poço",
           "Cluster 1"
          ],
          [
           "Várzea da Roça",
           "Cluster 1"
          ],
          [
           "Valente",
           "Cluster 1"
          ],
          [
           "Valença",
           "Cluster 1"
          ],
          [
           "Utinga",
           "Cluster 1"
          ],
          [
           "Tanque Novo",
           "Cluster 1"
          ],
          [
           "Urandi",
           "Cluster 1"
          ],
          [
           "Uibaí",
           "Cluster 1"
          ],
          [
           "Ubaíra",
           "Cluster 1"
          ],
          [
           "Tucano",
           "Cluster 1"
          ],
          [
           "Tremedal",
           "Cluster 1"
          ],
          [
           "Teolândia",
           "Cluster 1"
          ],
          [
           "Teofilândia",
           "Cluster 1"
          ],
          [
           "Teodoro Sampaio",
           "Cluster 1"
          ],
          [
           "Umburanas",
           "Cluster 1"
          ],
          [
           "São Desidério",
           "Cluster 1"
          ],
          [
           "Santanópolis",
           "Cluster 1"
          ],
          [
           "Santana",
           "Cluster 1"
          ],
          [
           "Presidente Dutra",
           "Cluster 1"
          ],
          [
           "Potiraguá",
           "Cluster 1"
          ],
          [
           "Ponto Novo",
           "Cluster 1"
          ],
          [
           "Pojuca",
           "Cluster 1"
          ],
          [
           "Planaltino",
           "Cluster 1"
          ],
          [
           "Piritiba",
           "Cluster 1"
          ],
          [
           "Piraí do Norte",
           "Cluster 1"
          ],
          [
           "Presidente Jânio Quadros",
           "Cluster 1"
          ],
          [
           "Pintadas",
           "Cluster 1"
          ],
          [
           "Pilão Arcado",
           "Cluster 1"
          ],
          [
           "Itaeté",
           "Cluster 1"
          ],
          [
           "Pedro Alexandre",
           "Cluster 1"
          ],
          [
           "Pedrão",
           "Cluster 1"
          ],
          [
           "Pé de Serra",
           "Cluster 1"
          ],
          [
           "Pau Brasil",
           "Cluster 1"
          ],
          [
           "Paratinga",
           "Cluster 1"
          ],
          [
           "Pindaí",
           "Cluster 1"
          ],
          [
           "Queimadas",
           "Cluster 1"
          ],
          [
           "Quijingue",
           "Cluster 1"
          ],
          [
           "Quixabeira",
           "Cluster 1"
          ],
          [
           "Santaluz",
           "Cluster 1"
          ],
          [
           "Santa Teresinha",
           "Cluster 1"
          ],
          [
           "Santa Maria da Vitória",
           "Cluster 1"
          ],
          [
           "Santa Luzia",
           "Cluster 1"
          ],
          [
           "Santa Cruz da Vitória",
           "Cluster 1"
          ],
          [
           "Santa Brígida",
           "Cluster 1"
          ],
          [
           "Ruy Barbosa",
           "Cluster 1"
          ],
          [
           "Rio do Pires",
           "Cluster 1"
          ],
          [
           "Rio do Antônio",
           "Cluster 1"
          ],
          [
           "Rio de Contas",
           "Cluster 1"
          ],
          [
           "Ribeira do Pombal",
           "Cluster 1"
          ],
          [
           "Ribeira do Amparo",
           "Cluster 1"
          ],
          [
           "Riacho de Santana",
           "Cluster 1"
          ],
          [
           "Riachão do Jacuípe",
           "Cluster 1"
          ],
          [
           "Retirolândia",
           "Cluster 1"
          ],
          [
           "Remanso",
           "Cluster 1"
          ],
          [
           "Rafael Jambeiro",
           "Cluster 1"
          ],
          [
           "Palmeiras",
           "Cluster 1"
          ],
          [
           "Piatã",
           "Cluster 1"
          ],
          [
           "Jaguaquara",
           "Cluster 1"
          ],
          [
           "Itaberaba",
           "Cluster 1"
          ],
          [
           "Cícero Dantas",
           "Cluster 1"
          ],
          [
           "Cipó",
           "Cluster 1"
          ],
          [
           "Coaraci",
           "Cluster 1"
          ],
          [
           "Cocos",
           "Cluster 1"
          ],
          [
           "Bom Jesus da Lapa",
           "Cluster 1"
          ],
          [
           "Conceição do Almeida",
           "Cluster 1"
          ],
          [
           "Conceição do Coité",
           "Cluster 1"
          ],
          [
           "Boa Vista do Tupim",
           "Cluster 1"
          ],
          [
           "Boa Nova",
           "Cluster 1"
          ],
          [
           "Biritinga",
           "Cluster 1"
          ],
          [
           "Contendas do Sincorá",
           "Cluster 1"
          ],
          [
           "Coribe",
           "Cluster 1"
          ],
          [
           "Correntina",
           "Cluster 1"
          ],
          [
           "Cotegipe",
           "Cluster 1"
          ],
          [
           "Chorrochó",
           "Cluster 1"
          ],
          [
           "Cravolândia",
           "Cluster 1"
          ],
          [
           "Cristópolis",
           "Cluster 1"
          ],
          [
           "Cruz das Almas",
           "Cluster 1"
          ],
          [
           "Barrocas",
           "Cluster 1"
          ],
          [
           "Barro Preto",
           "Cluster 1"
          ],
          [
           "Dom Basílio",
           "Cluster 1"
          ],
          [
           "Dom Macedo Costa",
           "Cluster 1"
          ],
          [
           "Barro Alto",
           "Cluster 1"
          ],
          [
           "Elísio Medrado",
           "Cluster 1"
          ],
          [
           "Érico Cardoso",
           "Cluster 1"
          ],
          [
           "Cachoeira",
           "Cluster 1"
          ],
          [
           "Euclides da Cunha",
           "Cluster 1"
          ],
          [
           "Fátima",
           "Cluster 1"
          ],
          [
           "Feira da Mata",
           "Cluster 1"
          ],
          [
           "Barra do Choça",
           "Cluster 1"
          ],
          [
           "Crisópolis",
           "Cluster 1"
          ],
          [
           "Filadélfia",
           "Cluster 1"
          ],
          [
           "Central",
           "Cluster 1"
          ],
          [
           "Catu",
           "Cluster 1"
          ],
          [
           "Caculé",
           "Cluster 1"
          ],
          [
           "Caém",
           "Cluster 1"
          ],
          [
           "Caetanos",
           "Cluster 1"
          ],
          [
           "Caetité",
           "Cluster 1"
          ],
          [
           "Cafarnaum",
           "Cluster 1"
          ],
          [
           "Buritirama",
           "Cluster 1"
          ],
          [
           "Cairu",
           "Cluster 1"
          ],
          [
           "Caldeirão Grande",
           "Cluster 1"
          ],
          [
           "Buerarema",
           "Cluster 1"
          ],
          [
           "Campo Alegre de Lourdes",
           "Cluster 1"
          ],
          [
           "Campo Formoso",
           "Cluster 1"
          ],
          [
           "Brumado",
           "Cluster 1"
          ],
          [
           "Canápolis",
           "Cluster 1"
          ],
          [
           "Canarana",
           "Cluster 1"
          ],
          [
           "Caturama",
           "Cluster 1"
          ],
          [
           "Brotas de Macaúbas",
           "Cluster 1"
          ],
          [
           "Candiba",
           "Cluster 1"
          ],
          [
           "Cansanção",
           "Cluster 1"
          ],
          [
           "Brejões",
           "Cluster 1"
          ],
          [
           "Canudos",
           "Cluster 1"
          ],
          [
           "Capela do Alto Alegre",
           "Cluster 1"
          ],
          [
           "Capim Grosso",
           "Cluster 1"
          ],
          [
           "Botuporã",
           "Cluster 1"
          ],
          [
           "Caraíbas",
           "Cluster 1"
          ],
          [
           "Boquira",
           "Cluster 1"
          ],
          [
           "Bonito",
           "Cluster 1"
          ],
          [
           "Carinhanha",
           "Cluster 1"
          ],
          [
           "Boninal",
           "Cluster 1"
          ],
          [
           "Bom Jesus da Serra",
           "Cluster 1"
          ],
          [
           "Catolândia",
           "Cluster 1"
          ],
          [
           "Brejolândia",
           "Cluster 1"
          ],
          [
           "Firmino Alves",
           "Cluster 1"
          ],
          [
           "Cabaceiras do Paraguaçu",
           "Cluster 1"
          ],
          [
           "Floresta Azul",
           "Cluster 1"
          ],
          [
           "Ibirapuã",
           "Cluster 1"
          ],
          [
           "Arataca",
           "Cluster 1"
          ],
          [
           "Aramari",
           "Cluster 1"
          ],
          [
           "Ibitiara",
           "Cluster 1"
          ],
          [
           "Aracatu",
           "Cluster 1"
          ],
          [
           "Aporá",
           "Cluster 1"
          ],
          [
           "Antônio Gonçalves",
           "Cluster 1"
          ],
          [
           "Antas",
           "Cluster 1"
          ],
          [
           "Anguera",
           "Cluster 1"
          ],
          [
           "Ichu",
           "Cluster 1"
          ],
          [
           "Igaporã",
           "Cluster 1"
          ],
          [
           "Igrapiúna",
           "Cluster 1"
          ],
          [
           "Iguaí",
           "Cluster 1"
          ],
          [
           "Ibirapitanga",
           "Cluster 1"
          ],
          [
           "Angical",
           "Cluster 1"
          ],
          [
           "Andaraí",
           "Cluster 1"
          ],
          [
           "Anagé",
           "Cluster 1"
          ],
          [
           "América Dourada",
           "Cluster 1"
          ],
          [
           "Almadina",
           "Cluster 1"
          ],
          [
           "Ipirá",
           "Cluster 1"
          ],
          [
           "Aiquara",
           "Cluster 1"
          ],
          [
           "Ipupiara",
           "Cluster 1"
          ],
          [
           "Irajuba",
           "Cluster 1"
          ],
          [
           "Iramaia",
           "Cluster 1"
          ],
          [
           "Iraquara",
           "Cluster 1"
          ],
          [
           "Adustina",
           "Cluster 1"
          ],
          [
           "Acajutiba",
           "Cluster 1"
          ],
          [
           "Abaré",
           "Cluster 1"
          ],
          [
           "Andorinha",
           "Cluster 1"
          ],
          [
           "Ibipitanga",
           "Cluster 1"
          ],
          [
           "Araças",
           "Cluster 1"
          ],
          [
           "Ibipeba",
           "Cluster 1"
          ],
          [
           "Baixa Grande",
           "Cluster 1"
          ],
          [
           "Gongogi",
           "Cluster 1"
          ],
          [
           "Governador Mangabeira",
           "Cluster 1"
          ],
          [
           "Gentio do Ouro",
           "Cluster 1"
          ],
          [
           "Guajeru",
           "Cluster 1"
          ],
          [
           "Guanambi",
           "Cluster 1"
          ],
          [
           "Banzaê",
           "Cluster 1"
          ],
          [
           "Guaratinga",
           "Cluster 1"
          ],
          [
           "Heliópolis",
           "Cluster 1"
          ],
          [
           "Iaçu",
           "Cluster 1"
          ],
          [
           "Ibicaraí",
           "Cluster 1"
          ],
          [
           "Ibiassucê",
           "Cluster 1"
          ],
          [
           "Formosa do Rio Preto",
           "Cluster 1"
          ],
          [
           "Baianópolis",
           "Cluster 1"
          ],
          [
           "Gavião",
           "Cluster 1"
          ],
          [
           "Gandu",
           "Cluster 1"
          ]
         ],
         "hovertemplate": "Cluster=%{customdata[1]}<br>Porcetagem de Casos=%{x}<br>Nome Município=%{customdata[0]}<extra></extra>",
         "legendgroup": "Cluster 1",
         "marker": {
          "color": "#EF553B"
         },
         "name": "Cluster 1",
         "notched": true,
         "offsetgroup": "Cluster 1",
         "showlegend": false,
         "type": "box",
         "x": [
          0.014534884,
          0.01601794,
          0.010440593,
          0.0019248166,
          0.027159153,
          0,
          0.008770007,
          0.024023062,
          0,
          0.018272182,
          0.025025025,
          0.02604845,
          0.034352455,
          0.012471161,
          0.009794,
          0.00799105,
          0,
          0.010526316,
          0.014314343,
          0.020879732,
          0.029418254,
          0.010043186,
          0.030437429,
          0.022441652,
          0.023778642,
          0.015936255,
          0.018742971,
          0.031246245,
          0.031298906,
          0,
          0,
          0.026318097,
          0,
          0.0067962483,
          0.030179568,
          0.023277467,
          0.02034588,
          0.014633433,
          0,
          0.013854253,
          0.02743108,
          0.025540175,
          0.025157232,
          0.012477385,
          0.032913685,
          0.030410983,
          0.02149151,
          0,
          0.011411617,
          0.019466614,
          0.033647377,
          0,
          0.031397175,
          0.016836435,
          0.019148605,
          0.0064186226,
          0.03084278,
          0.034376074,
          0.02124345,
          0.011102476,
          0.011253658,
          0,
          0.023459861,
          0.004434,
          0,
          0.004487122,
          0.022853225,
          0,
          0.007442137,
          0.021688838,
          0.020460235,
          0,
          0.012124519,
          0,
          0.017099863,
          0.009790004,
          0.022082368,
          0.02480979,
          0.030591954,
          0.031595577,
          0.019595036,
          0.0136587145,
          0.004389045,
          0,
          0.018766128,
          0.018637592,
          0.0077309627,
          0.010253255,
          0,
          0.03410176,
          0.024353756,
          0.02734205,
          0.03033367,
          0.0055915904,
          0,
          0.034544703,
          0.024038462,
          0.011419871,
          0.02259887,
          0.013023377,
          0.034220207,
          0.025201613,
          0.010244852,
          0.011883188,
          0.021591278,
          0.0036374219,
          0.025422651,
          0.0237023,
          0.031585597,
          0.012588751,
          0.010436235,
          0.007933045,
          0.009605225,
          0.01499925,
          0.009081002,
          0.011191942,
          0.018087544,
          0.02196716,
          0.026571011,
          0,
          0.018738873,
          0.012133345,
          0,
          0.0037661947,
          0.0034925956,
          0.010625863,
          0.028629432,
          0.028084628,
          0.021547081,
          0.014927601,
          0.02985966,
          0.0066773505,
          0.028117092,
          0.008244023,
          0,
          0,
          0.009096698,
          0.012950852,
          0.01097725,
          0.008624655,
          0.013577732,
          0.028121484,
          0.012732366,
          0,
          0.016423058,
          0.023200614,
          0.029937431,
          0.023070712,
          0.0056372965,
          0.026285354,
          0,
          0.03398567,
          0.032914586,
          0.02928129,
          0.005127679,
          0.028431302,
          0.03002462,
          0,
          0.026786312,
          0.026977608,
          0.027750798,
          0.008627383,
          0,
          0.020828994,
          0.006160291,
          0.0245459,
          0.01599744,
          0.007933989,
          0.02374169,
          0.019714793,
          0.023637868,
          0,
          0.011383363,
          0.020993477,
          0.021688446,
          0,
          0.035168957,
          0.013739409,
          0.011644155,
          0.02226056,
          0.035423934,
          0.008397363,
          0,
          0,
          0.017028362,
          0.021045985,
          0.013770311,
          0.027436348,
          0.02187705,
          0.01557956,
          0.006656017,
          0.035399195,
          0.0057407753,
          0,
          0.018613655,
          0,
          0,
          0,
          0.033157416,
          0.026451528,
          0.034650035,
          0.032789573,
          0.01911315,
          0.01835199,
          0,
          0.013354701,
          0.023349483,
          0.006640547,
          0.013550135,
          0.028634151,
          0.027255382,
          0.009231053,
          0.017176228,
          0,
          0.008893632,
          0.011296882,
          0.025726782,
          0.025634453,
          0.0059329574,
          0.014324595,
          0.010908694,
          0.033134528,
          0.01533037,
          0.026130129,
          0,
          0.018424124,
          0.028194826,
          0.010737679,
          0.024698474,
          0.027229408,
          0.01455922,
          0.010220769,
          0.01190618,
          0.016708437,
          0.00957992,
          0.02116402,
          0,
          0.013296104,
          0.02019998,
          0.00783208,
          0.005764021,
          0.03179246,
          0.034672346,
          0.025823113,
          0.012976059,
          0.007931472,
          0.021415569,
          0.014016727,
          0.0254842,
          0.032565713,
          0,
          0,
          0.02303935,
          0,
          0.022569288,
          0.021869076,
          0.019316953,
          0.008500149,
          0,
          0.023155294,
          0.013963555,
          0,
          0.0270807
         ],
         "xaxis": "x2",
         "yaxis": "y2"
        },
        {
         "alignmentgroup": "True",
         "bingroup": "x",
         "hovertemplate": "Cluster=Cluster 2<br>Porcetagem de Casos=%{x}<br>count=%{y}<extra></extra>",
         "legendgroup": "Cluster 2",
         "marker": {
          "color": "#00cc96",
          "opacity": 0.7,
          "pattern": {
           "shape": ""
          }
         },
         "name": "Cluster 2",
         "offsetgroup": "Cluster 2",
         "orientation": "v",
         "showlegend": true,
         "type": "histogram",
         "x": [
          0.048076924,
          0.062730335,
          0.06724267,
          0.038260426,
          0.06235969,
          0.049610287,
          0.054995418,
          0.053333335,
          0.066840135,
          0.056450877,
          0.049225643,
          0.051405072,
          0.0507228,
          0.03583908,
          0.043926008,
          0.046880126,
          0.06961711,
          0.06617039,
          0.043615744,
          0.046364985,
          0.035755787,
          0.05751605,
          0.047221784,
          0.057091985,
          0.0448263,
          0.06792863,
          0.051746443,
          0.045189716,
          0.05733945,
          0.05891723,
          0.037741028,
          0.06028388,
          0.039960764,
          0.05654281,
          0.050434295,
          0.06391819,
          0.058597475,
          0.047183976,
          0.04727884,
          0.055716515,
          0.05295909,
          0.047273874,
          0.04030633,
          0.04645491,
          0.046378154,
          0.035722792,
          0.055594865,
          0.06944445,
          0.03629325,
          0.06723141,
          0.05585174,
          0.05613641,
          0.04916421,
          0.061015002,
          0.044239853,
          0.03766301,
          0.05303432,
          0.051357772,
          0.040766407,
          0.04350882,
          0.03696516,
          0.052479666,
          0.05540166,
          0.058039803,
          0.06903979,
          0.03704047,
          0.051616233,
          0.03938171,
          0.060172495,
          0.056856103,
          0.050576303,
          0.060716454,
          0.06383251,
          0.038082544,
          0.06905481,
          0.036992997,
          0.03883495,
          0.03990025,
          0.06608415,
          0.0411679,
          0.07334451,
          0.037636433,
          0.047234423,
          0.045025684,
          0.056580286,
          0.069692746,
          0.035609998,
          0.035476476,
          0.06004203,
          0.050637186,
          0.07084662,
          0.05646282,
          0.039409976,
          0.04395808,
          0.046449214,
          0.044692736,
          0.044633448,
          0.061798822,
          0.054988217,
          0.0713691,
          0.040837757,
          0.06409594,
          0.04492363,
          0.064464755,
          0.03848057
         ],
         "xaxis": "x",
         "yaxis": "y"
        },
        {
         "alignmentgroup": "True",
         "customdata": [
          [
           "Barra do Mendes",
           "Cluster 2"
          ],
          [
           "Amargosa",
           "Cluster 2"
          ],
          [
           "Barreiras",
           "Cluster 2"
          ],
          [
           "Caatiba",
           "Cluster 2"
          ],
          [
           "Serra Preta",
           "Cluster 2"
          ],
          [
           "Vitória da Conquista",
           "Cluster 2"
          ],
          [
           "Vera Cruz",
           "Cluster 2"
          ],
          [
           "Varzedo",
           "Cluster 2"
          ],
          [
           "Sento Sé",
           "Cluster 2"
          ],
          [
           "Barra",
           "Cluster 2"
          ],
          [
           "Amélia Rodrigues",
           "Cluster 2"
          ],
          [
           "Água Fria",
           "Cluster 2"
          ],
          [
           "Salinas da Margarida",
           "Cluster 2"
          ],
          [
           "Santa Inês",
           "Cluster 2"
          ],
          [
           "Ubaitaba",
           "Cluster 2"
          ],
          [
           "Una",
           "Cluster 2"
          ],
          [
           "São Francisco do Conde",
           "Cluster 2"
          ],
          [
           "São José da Vitória",
           "Cluster 2"
          ],
          [
           "Aratuípe",
           "Cluster 2"
          ],
          [
           "São José do Jacuípe",
           "Cluster 2"
          ],
          [
           "Araci",
           "Cluster 2"
          ],
          [
           "Santo Estêvão",
           "Cluster 2"
          ],
          [
           "Aurelino Leal",
           "Cluster 2"
          ],
          [
           "Santo Antônio de Jesus",
           "Cluster 2"
          ],
          [
           "Saúde",
           "Cluster 2"
          ],
          [
           "Barra da Estiva",
           "Cluster 2"
          ],
          [
           "Apuarema",
           "Cluster 2"
          ],
          [
           "Santo Amaro",
           "Cluster 2"
          ],
          [
           "Antônio Cardoso",
           "Cluster 2"
          ],
          [
           "São Sebastião do Passé",
           "Cluster 2"
          ],
          [
           "Santa Rita de Cássia",
           "Cluster 2"
          ],
          [
           "Belo Campo",
           "Cluster 2"
          ],
          [
           "Ubatã",
           "Cluster 2"
          ],
          [
           "Saubara",
           "Cluster 2"
          ],
          [
           "Tapiramutá",
           "Cluster 2"
          ],
          [
           "Barra do Rocha",
           "Cluster 2"
          ],
          [
           "Casa Nova",
           "Cluster 2"
          ],
          [
           "Riachão das Neves",
           "Cluster 2"
          ],
          [
           "Jaguaripe",
           "Cluster 2"
          ],
          [
           "Ibititá",
           "Cluster 2"
          ],
          [
           "Jiquiriçá",
           "Cluster 2"
          ],
          [
           "Jitaúna",
           "Cluster 2"
          ],
          [
           "Jucuruçu",
           "Cluster 2"
          ],
          [
           "Ibirataia",
           "Cluster 2"
          ],
          [
           "Jaguarari",
           "Cluster 2"
          ],
          [
           "Ibicuí",
           "Cluster 2"
          ],
          [
           "Ibicoara",
           "Cluster 2"
          ],
          [
           "Glória",
           "Cluster 2"
          ],
          [
           "Macururé",
           "Cluster 2"
          ],
          [
           "Ribeirão do Largo",
           "Cluster 2"
          ],
          [
           "Mairi",
           "Cluster 2"
          ],
          [
           "Manoel Vitorino",
           "Cluster 2"
          ],
          [
           "Lajedão",
           "Cluster 2"
          ],
          [
           "Ibotirama",
           "Cluster 2"
          ],
          [
           "Jacobina",
           "Cluster 2"
          ],
          [
           "Itororó",
           "Cluster 2"
          ],
          [
           "Itagi",
           "Cluster 2"
          ],
          [
           "Itagibá",
           "Cluster 2"
          ],
          [
           "Itaguaçu da Bahia",
           "Cluster 2"
          ],
          [
           "Irará",
           "Cluster 2"
          ],
          [
           "Itajuípe",
           "Cluster 2"
          ],
          [
           "Itaparica",
           "Cluster 2"
          ],
          [
           "Itapebi",
           "Cluster 2"
          ],
          [
           "Itapetinga",
           "Cluster 2"
          ],
          [
           "Itapicuru",
           "Cluster 2"
          ],
          [
           "Itapitanga",
           "Cluster 2"
          ],
          [
           "Ipecaetá",
           "Cluster 2"
          ],
          [
           "Itarantim",
           "Cluster 2"
          ],
          [
           "Itatim",
           "Cluster 2"
          ],
          [
           "Inhambupe",
           "Cluster 2"
          ],
          [
           "Itiúba",
           "Cluster 2"
          ],
          [
           "Eunápolis",
           "Cluster 2"
          ],
          [
           "Mata de São João",
           "Cluster 2"
          ],
          [
           "Madre de Deus",
           "Cluster 2"
          ],
          [
           "Milagres",
           "Cluster 2"
          ],
          [
           "Esplanada",
           "Cluster 2"
          ],
          [
           "Ourolândia",
           "Cluster 2"
          ],
          [
           "Paripiranga",
           "Cluster 2"
          ],
          [
           "Castro Alves",
           "Cluster 2"
          ],
          [
           "Itabuna",
           "Cluster 2"
          ],
          [
           "Cardeal da Silva",
           "Cluster 2"
          ],
          [
           "Olindina",
           "Cluster 2"
          ],
          [
           "Pindobaçu",
           "Cluster 2"
          ],
          [
           "Poções",
           "Cluster 2"
          ],
          [
           "Candeal",
           "Cluster 2"
          ],
          [
           "Canavieiras",
           "Cluster 2"
          ],
          [
           "Presidente Tancredo Neves",
           "Cluster 2"
          ],
          [
           "Camamu",
           "Cluster 2"
          ],
          [
           "Camacan",
           "Cluster 2"
          ],
          [
           "Piripá",
           "Cluster 2"
          ],
          [
           "Conceição do Jacuípe",
           "Cluster 2"
          ],
          [
           "Conceição da Feira",
           "Cluster 2"
          ],
          [
           "Curaçá",
           "Cluster 2"
          ],
          [
           "Entre Rios",
           "Cluster 2"
          ],
          [
           "Encruzilhada",
           "Cluster 2"
          ],
          [
           "Morpará",
           "Cluster 2"
          ],
          [
           "Dias d'Ávila",
           "Cluster 2"
          ],
          [
           "Mucuri",
           "Cluster 2"
          ],
          [
           "Nova Soure",
           "Cluster 2"
          ],
          [
           "Coronel João Sá",
           "Cluster 2"
          ],
          [
           "Nova Canaã",
           "Cluster 2"
          ],
          [
           "Xique-Xique",
           "Cluster 2"
          ],
          [
           "Cordeiros",
           "Cluster 2"
          ],
          [
           "Conde",
           "Cluster 2"
          ],
          [
           "Condeúba",
           "Cluster 2"
          ]
         ],
         "hovertemplate": "Cluster=%{customdata[1]}<br>Porcetagem de Casos=%{x}<br>Nome Município=%{customdata[0]}<extra></extra>",
         "legendgroup": "Cluster 2",
         "marker": {
          "color": "#00cc96"
         },
         "name": "Cluster 2",
         "notched": true,
         "offsetgroup": "Cluster 2",
         "showlegend": false,
         "type": "box",
         "x": [
          0.048076924,
          0.062730335,
          0.06724267,
          0.038260426,
          0.06235969,
          0.049610287,
          0.054995418,
          0.053333335,
          0.066840135,
          0.056450877,
          0.049225643,
          0.051405072,
          0.0507228,
          0.03583908,
          0.043926008,
          0.046880126,
          0.06961711,
          0.06617039,
          0.043615744,
          0.046364985,
          0.035755787,
          0.05751605,
          0.047221784,
          0.057091985,
          0.0448263,
          0.06792863,
          0.051746443,
          0.045189716,
          0.05733945,
          0.05891723,
          0.037741028,
          0.06028388,
          0.039960764,
          0.05654281,
          0.050434295,
          0.06391819,
          0.058597475,
          0.047183976,
          0.04727884,
          0.055716515,
          0.05295909,
          0.047273874,
          0.04030633,
          0.04645491,
          0.046378154,
          0.035722792,
          0.055594865,
          0.06944445,
          0.03629325,
          0.06723141,
          0.05585174,
          0.05613641,
          0.04916421,
          0.061015002,
          0.044239853,
          0.03766301,
          0.05303432,
          0.051357772,
          0.040766407,
          0.04350882,
          0.03696516,
          0.052479666,
          0.05540166,
          0.058039803,
          0.06903979,
          0.03704047,
          0.051616233,
          0.03938171,
          0.060172495,
          0.056856103,
          0.050576303,
          0.060716454,
          0.06383251,
          0.038082544,
          0.06905481,
          0.036992997,
          0.03883495,
          0.03990025,
          0.06608415,
          0.0411679,
          0.07334451,
          0.037636433,
          0.047234423,
          0.045025684,
          0.056580286,
          0.069692746,
          0.035609998,
          0.035476476,
          0.06004203,
          0.050637186,
          0.07084662,
          0.05646282,
          0.039409976,
          0.04395808,
          0.046449214,
          0.044692736,
          0.044633448,
          0.061798822,
          0.054988217,
          0.0713691,
          0.040837757,
          0.06409594,
          0.04492363,
          0.064464755,
          0.03848057
         ],
         "xaxis": "x2",
         "yaxis": "y2"
        },
        {
         "alignmentgroup": "True",
         "bingroup": "x",
         "hovertemplate": "Cluster=Cluster 3<br>Porcetagem de Casos=%{x}<br>count=%{y}<extra></extra>",
         "legendgroup": "Cluster 3",
         "marker": {
          "color": "#ab63fa",
          "opacity": 0.7,
          "pattern": {
           "shape": ""
          }
         },
         "name": "Cluster 3",
         "offsetgroup": "Cluster 3",
         "orientation": "v",
         "showlegend": true,
         "type": "histogram",
         "x": [
          0.18133514,
          0.113433905,
          0.14104103,
          0.10820444,
          0.12647317,
          0.20683454,
          0.1285089,
          0.24383983,
          0.11573465,
          0.122552305,
          0.18261917,
          0.11975496,
          0.12752858,
          0.16331993,
          0.1499188,
          0.14710003,
          0.19543572
         ],
         "xaxis": "x",
         "yaxis": "y"
        },
        {
         "alignmentgroup": "True",
         "customdata": [
          [
           "Sobradinho",
           "Cluster 3"
          ],
          [
           "Jequié",
           "Cluster 3"
          ],
          [
           "Feira de Santana",
           "Cluster 3"
          ],
          [
           "Itabela",
           "Cluster 3"
          ],
          [
           "Salvador",
           "Cluster 3"
          ],
          [
           "Jandaíra",
           "Cluster 3"
          ],
          [
           "Itambé",
           "Cluster 3"
          ],
          [
           "Alcobaça",
           "Cluster 3"
          ],
          [
           "São Gonçalo dos Campos",
           "Cluster 3"
          ],
          [
           "Porto Seguro",
           "Cluster 3"
          ],
          [
           "Juazeiro",
           "Cluster 3"
          ],
          [
           "Uruçuca",
           "Cluster 3"
          ],
          [
           "Caravelas",
           "Cluster 3"
          ],
          [
           "Ilhéus",
           "Cluster 3"
          ],
          [
           "Belmonte",
           "Cluster 3"
          ],
          [
           "Santa Cruz Cabrália",
           "Cluster 3"
          ],
          [
           "Teixeira de Freitas",
           "Cluster 3"
          ]
         ],
         "hovertemplate": "Cluster=%{customdata[1]}<br>Porcetagem de Casos=%{x}<br>Nome Município=%{customdata[0]}<extra></extra>",
         "legendgroup": "Cluster 3",
         "marker": {
          "color": "#ab63fa"
         },
         "name": "Cluster 3",
         "notched": true,
         "offsetgroup": "Cluster 3",
         "showlegend": false,
         "type": "box",
         "x": [
          0.18133514,
          0.113433905,
          0.14104103,
          0.10820444,
          0.12647317,
          0.20683454,
          0.1285089,
          0.24383983,
          0.11573465,
          0.122552305,
          0.18261917,
          0.11975496,
          0.12752858,
          0.16331993,
          0.1499188,
          0.14710003,
          0.19543572
         ],
         "xaxis": "x2",
         "yaxis": "y2"
        }
       ],
       "layout": {
        "barmode": "relative",
        "height": 600,
        "legend": {
         "title": {
          "text": "Cluster"
         },
         "tracegroupgap": 0
        },
        "margin": {
         "t": 60
        },
        "template": {
         "data": {
          "bar": [
           {
            "error_x": {
             "color": "#2a3f5f"
            },
            "error_y": {
             "color": "#2a3f5f"
            },
            "marker": {
             "line": {
              "color": "#E5ECF6",
              "width": 0.5
             },
             "pattern": {
              "fillmode": "overlay",
              "size": 10,
              "solidity": 0.2
             }
            },
            "type": "bar"
           }
          ],
          "barpolar": [
           {
            "marker": {
             "line": {
              "color": "#E5ECF6",
              "width": 0.5
             },
             "pattern": {
              "fillmode": "overlay",
              "size": 10,
              "solidity": 0.2
             }
            },
            "type": "barpolar"
           }
          ],
          "carpet": [
           {
            "aaxis": {
             "endlinecolor": "#2a3f5f",
             "gridcolor": "white",
             "linecolor": "white",
             "minorgridcolor": "white",
             "startlinecolor": "#2a3f5f"
            },
            "baxis": {
             "endlinecolor": "#2a3f5f",
             "gridcolor": "white",
             "linecolor": "white",
             "minorgridcolor": "white",
             "startlinecolor": "#2a3f5f"
            },
            "type": "carpet"
           }
          ],
          "choropleth": [
           {
            "colorbar": {
             "outlinewidth": 0,
             "ticks": ""
            },
            "type": "choropleth"
           }
          ],
          "contour": [
           {
            "colorbar": {
             "outlinewidth": 0,
             "ticks": ""
            },
            "colorscale": [
             [
              0,
              "#0d0887"
             ],
             [
              0.1111111111111111,
              "#46039f"
             ],
             [
              0.2222222222222222,
              "#7201a8"
             ],
             [
              0.3333333333333333,
              "#9c179e"
             ],
             [
              0.4444444444444444,
              "#bd3786"
             ],
             [
              0.5555555555555556,
              "#d8576b"
             ],
             [
              0.6666666666666666,
              "#ed7953"
             ],
             [
              0.7777777777777778,
              "#fb9f3a"
             ],
             [
              0.8888888888888888,
              "#fdca26"
             ],
             [
              1,
              "#f0f921"
             ]
            ],
            "type": "contour"
           }
          ],
          "contourcarpet": [
           {
            "colorbar": {
             "outlinewidth": 0,
             "ticks": ""
            },
            "type": "contourcarpet"
           }
          ],
          "heatmap": [
           {
            "colorbar": {
             "outlinewidth": 0,
             "ticks": ""
            },
            "colorscale": [
             [
              0,
              "#0d0887"
             ],
             [
              0.1111111111111111,
              "#46039f"
             ],
             [
              0.2222222222222222,
              "#7201a8"
             ],
             [
              0.3333333333333333,
              "#9c179e"
             ],
             [
              0.4444444444444444,
              "#bd3786"
             ],
             [
              0.5555555555555556,
              "#d8576b"
             ],
             [
              0.6666666666666666,
              "#ed7953"
             ],
             [
              0.7777777777777778,
              "#fb9f3a"
             ],
             [
              0.8888888888888888,
              "#fdca26"
             ],
             [
              1,
              "#f0f921"
             ]
            ],
            "type": "heatmap"
           }
          ],
          "heatmapgl": [
           {
            "colorbar": {
             "outlinewidth": 0,
             "ticks": ""
            },
            "colorscale": [
             [
              0,
              "#0d0887"
             ],
             [
              0.1111111111111111,
              "#46039f"
             ],
             [
              0.2222222222222222,
              "#7201a8"
             ],
             [
              0.3333333333333333,
              "#9c179e"
             ],
             [
              0.4444444444444444,
              "#bd3786"
             ],
             [
              0.5555555555555556,
              "#d8576b"
             ],
             [
              0.6666666666666666,
              "#ed7953"
             ],
             [
              0.7777777777777778,
              "#fb9f3a"
             ],
             [
              0.8888888888888888,
              "#fdca26"
             ],
             [
              1,
              "#f0f921"
             ]
            ],
            "type": "heatmapgl"
           }
          ],
          "histogram": [
           {
            "marker": {
             "pattern": {
              "fillmode": "overlay",
              "size": 10,
              "solidity": 0.2
             }
            },
            "type": "histogram"
           }
          ],
          "histogram2d": [
           {
            "colorbar": {
             "outlinewidth": 0,
             "ticks": ""
            },
            "colorscale": [
             [
              0,
              "#0d0887"
             ],
             [
              0.1111111111111111,
              "#46039f"
             ],
             [
              0.2222222222222222,
              "#7201a8"
             ],
             [
              0.3333333333333333,
              "#9c179e"
             ],
             [
              0.4444444444444444,
              "#bd3786"
             ],
             [
              0.5555555555555556,
              "#d8576b"
             ],
             [
              0.6666666666666666,
              "#ed7953"
             ],
             [
              0.7777777777777778,
              "#fb9f3a"
             ],
             [
              0.8888888888888888,
              "#fdca26"
             ],
             [
              1,
              "#f0f921"
             ]
            ],
            "type": "histogram2d"
           }
          ],
          "histogram2dcontour": [
           {
            "colorbar": {
             "outlinewidth": 0,
             "ticks": ""
            },
            "colorscale": [
             [
              0,
              "#0d0887"
             ],
             [
              0.1111111111111111,
              "#46039f"
             ],
             [
              0.2222222222222222,
              "#7201a8"
             ],
             [
              0.3333333333333333,
              "#9c179e"
             ],
             [
              0.4444444444444444,
              "#bd3786"
             ],
             [
              0.5555555555555556,
              "#d8576b"
             ],
             [
              0.6666666666666666,
              "#ed7953"
             ],
             [
              0.7777777777777778,
              "#fb9f3a"
             ],
             [
              0.8888888888888888,
              "#fdca26"
             ],
             [
              1,
              "#f0f921"
             ]
            ],
            "type": "histogram2dcontour"
           }
          ],
          "mesh3d": [
           {
            "colorbar": {
             "outlinewidth": 0,
             "ticks": ""
            },
            "type": "mesh3d"
           }
          ],
          "parcoords": [
           {
            "line": {
             "colorbar": {
              "outlinewidth": 0,
              "ticks": ""
             }
            },
            "type": "parcoords"
           }
          ],
          "pie": [
           {
            "automargin": true,
            "type": "pie"
           }
          ],
          "scatter": [
           {
            "fillpattern": {
             "fillmode": "overlay",
             "size": 10,
             "solidity": 0.2
            },
            "type": "scatter"
           }
          ],
          "scatter3d": [
           {
            "line": {
             "colorbar": {
              "outlinewidth": 0,
              "ticks": ""
             }
            },
            "marker": {
             "colorbar": {
              "outlinewidth": 0,
              "ticks": ""
             }
            },
            "type": "scatter3d"
           }
          ],
          "scattercarpet": [
           {
            "marker": {
             "colorbar": {
              "outlinewidth": 0,
              "ticks": ""
             }
            },
            "type": "scattercarpet"
           }
          ],
          "scattergeo": [
           {
            "marker": {
             "colorbar": {
              "outlinewidth": 0,
              "ticks": ""
             }
            },
            "type": "scattergeo"
           }
          ],
          "scattergl": [
           {
            "marker": {
             "colorbar": {
              "outlinewidth": 0,
              "ticks": ""
             }
            },
            "type": "scattergl"
           }
          ],
          "scattermapbox": [
           {
            "marker": {
             "colorbar": {
              "outlinewidth": 0,
              "ticks": ""
             }
            },
            "type": "scattermapbox"
           }
          ],
          "scatterpolar": [
           {
            "marker": {
             "colorbar": {
              "outlinewidth": 0,
              "ticks": ""
             }
            },
            "type": "scatterpolar"
           }
          ],
          "scatterpolargl": [
           {
            "marker": {
             "colorbar": {
              "outlinewidth": 0,
              "ticks": ""
             }
            },
            "type": "scatterpolargl"
           }
          ],
          "scatterternary": [
           {
            "marker": {
             "colorbar": {
              "outlinewidth": 0,
              "ticks": ""
             }
            },
            "type": "scatterternary"
           }
          ],
          "surface": [
           {
            "colorbar": {
             "outlinewidth": 0,
             "ticks": ""
            },
            "colorscale": [
             [
              0,
              "#0d0887"
             ],
             [
              0.1111111111111111,
              "#46039f"
             ],
             [
              0.2222222222222222,
              "#7201a8"
             ],
             [
              0.3333333333333333,
              "#9c179e"
             ],
             [
              0.4444444444444444,
              "#bd3786"
             ],
             [
              0.5555555555555556,
              "#d8576b"
             ],
             [
              0.6666666666666666,
              "#ed7953"
             ],
             [
              0.7777777777777778,
              "#fb9f3a"
             ],
             [
              0.8888888888888888,
              "#fdca26"
             ],
             [
              1,
              "#f0f921"
             ]
            ],
            "type": "surface"
           }
          ],
          "table": [
           {
            "cells": {
             "fill": {
              "color": "#EBF0F8"
             },
             "line": {
              "color": "white"
             }
            },
            "header": {
             "fill": {
              "color": "#C8D4E3"
             },
             "line": {
              "color": "white"
             }
            },
            "type": "table"
           }
          ]
         },
         "layout": {
          "annotationdefaults": {
           "arrowcolor": "#2a3f5f",
           "arrowhead": 0,
           "arrowwidth": 1
          },
          "autotypenumbers": "strict",
          "coloraxis": {
           "colorbar": {
            "outlinewidth": 0,
            "ticks": ""
           }
          },
          "colorscale": {
           "diverging": [
            [
             0,
             "#8e0152"
            ],
            [
             0.1,
             "#c51b7d"
            ],
            [
             0.2,
             "#de77ae"
            ],
            [
             0.3,
             "#f1b6da"
            ],
            [
             0.4,
             "#fde0ef"
            ],
            [
             0.5,
             "#f7f7f7"
            ],
            [
             0.6,
             "#e6f5d0"
            ],
            [
             0.7,
             "#b8e186"
            ],
            [
             0.8,
             "#7fbc41"
            ],
            [
             0.9,
             "#4d9221"
            ],
            [
             1,
             "#276419"
            ]
           ],
           "sequential": [
            [
             0,
             "#0d0887"
            ],
            [
             0.1111111111111111,
             "#46039f"
            ],
            [
             0.2222222222222222,
             "#7201a8"
            ],
            [
             0.3333333333333333,
             "#9c179e"
            ],
            [
             0.4444444444444444,
             "#bd3786"
            ],
            [
             0.5555555555555556,
             "#d8576b"
            ],
            [
             0.6666666666666666,
             "#ed7953"
            ],
            [
             0.7777777777777778,
             "#fb9f3a"
            ],
            [
             0.8888888888888888,
             "#fdca26"
            ],
            [
             1,
             "#f0f921"
            ]
           ],
           "sequentialminus": [
            [
             0,
             "#0d0887"
            ],
            [
             0.1111111111111111,
             "#46039f"
            ],
            [
             0.2222222222222222,
             "#7201a8"
            ],
            [
             0.3333333333333333,
             "#9c179e"
            ],
            [
             0.4444444444444444,
             "#bd3786"
            ],
            [
             0.5555555555555556,
             "#d8576b"
            ],
            [
             0.6666666666666666,
             "#ed7953"
            ],
            [
             0.7777777777777778,
             "#fb9f3a"
            ],
            [
             0.8888888888888888,
             "#fdca26"
            ],
            [
             1,
             "#f0f921"
            ]
           ]
          },
          "colorway": [
           "#636efa",
           "#EF553B",
           "#00cc96",
           "#ab63fa",
           "#FFA15A",
           "#19d3f3",
           "#FF6692",
           "#B6E880",
           "#FF97FF",
           "#FECB52"
          ],
          "font": {
           "color": "#2a3f5f"
          },
          "geo": {
           "bgcolor": "white",
           "lakecolor": "white",
           "landcolor": "#E5ECF6",
           "showlakes": true,
           "showland": true,
           "subunitcolor": "white"
          },
          "hoverlabel": {
           "align": "left"
          },
          "hovermode": "closest",
          "mapbox": {
           "style": "light"
          },
          "paper_bgcolor": "white",
          "plot_bgcolor": "#E5ECF6",
          "polar": {
           "angularaxis": {
            "gridcolor": "white",
            "linecolor": "white",
            "ticks": ""
           },
           "bgcolor": "#E5ECF6",
           "radialaxis": {
            "gridcolor": "white",
            "linecolor": "white",
            "ticks": ""
           }
          },
          "scene": {
           "xaxis": {
            "backgroundcolor": "#E5ECF6",
            "gridcolor": "white",
            "gridwidth": 2,
            "linecolor": "white",
            "showbackground": true,
            "ticks": "",
            "zerolinecolor": "white"
           },
           "yaxis": {
            "backgroundcolor": "#E5ECF6",
            "gridcolor": "white",
            "gridwidth": 2,
            "linecolor": "white",
            "showbackground": true,
            "ticks": "",
            "zerolinecolor": "white"
           },
           "zaxis": {
            "backgroundcolor": "#E5ECF6",
            "gridcolor": "white",
            "gridwidth": 2,
            "linecolor": "white",
            "showbackground": true,
            "ticks": "",
            "zerolinecolor": "white"
           }
          },
          "shapedefaults": {
           "line": {
            "color": "#2a3f5f"
           }
          },
          "ternary": {
           "aaxis": {
            "gridcolor": "white",
            "linecolor": "white",
            "ticks": ""
           },
           "baxis": {
            "gridcolor": "white",
            "linecolor": "white",
            "ticks": ""
           },
           "bgcolor": "#E5ECF6",
           "caxis": {
            "gridcolor": "white",
            "linecolor": "white",
            "ticks": ""
           }
          },
          "title": {
           "x": 0.05
          },
          "xaxis": {
           "automargin": true,
           "gridcolor": "white",
           "linecolor": "white",
           "ticks": "",
           "title": {
            "standoff": 15
           },
           "zerolinecolor": "white",
           "zerolinewidth": 2
          },
          "yaxis": {
           "automargin": true,
           "gridcolor": "white",
           "linecolor": "white",
           "ticks": "",
           "title": {
            "standoff": 15
           },
           "zerolinecolor": "white",
           "zerolinewidth": 2
          }
         }
        },
        "xaxis": {
         "anchor": "y",
         "domain": [
          0,
          1
         ],
         "title": {
          "text": "Porcetagem de Casos"
         }
        },
        "xaxis2": {
         "anchor": "y2",
         "domain": [
          0,
          1
         ],
         "matches": "x",
         "showgrid": true,
         "showticklabels": false
        },
        "yaxis": {
         "anchor": "x",
         "domain": [
          0,
          0.7326
         ],
         "title": {
          "text": "count"
         }
        },
        "yaxis2": {
         "anchor": "x2",
         "domain": [
          0.7426,
          1
         ],
         "matches": "y2",
         "showgrid": false,
         "showline": false,
         "showticklabels": false,
         "ticks": ""
        }
       }
      }
     },
     "metadata": {},
     "output_type": "display_data"
    }
   ],
   "source": [
    "plot_model(modelo, plot = 'distribution', feature = 'Porcetagem de Casos', label=False)"
   ]
  },
  {
   "cell_type": "code",
   "execution_count": 467,
   "id": "5630cfd7",
   "metadata": {},
   "outputs": [
    {
     "data": {
      "text/html": [],
      "text/plain": [
       "<IPython.core.display.HTML object>"
      ]
     },
     "metadata": {},
     "output_type": "display_data"
    },
    {
     "data": {
      "application/vnd.plotly.v1+json": {
       "config": {
        "plotlyServerURL": "https://plot.ly"
       },
       "data": [
        {
         "customdata": [
          [
           0.081037275
          ],
          [
           0.07784472
          ],
          [
           0.07408563
          ],
          [
           0.09372423
          ],
          [
           0.07468759
          ],
          [
           0.09492169
          ],
          [
           0.102903344
          ],
          [
           0.09206847
          ],
          [
           0.084956534
          ],
          [
           0.07681803
          ],
          [
           0.102714084
          ],
          [
           0.08521589
          ],
          [
           0.07868461
          ],
          [
           0.08903587
          ],
          [
           0.100557856
          ],
          [
           0.09569378
          ],
          [
           0.08503401
          ],
          [
           0.078023404
          ],
          [
           0.08405323
          ],
          [
           0.09761191
          ],
          [
           0.08759428
          ],
          [
           0.07387707
          ],
          [
           0.082586125
          ],
          [
           0.08176007
          ],
          [
           0.080780104
          ],
          [
           0.08594667
          ],
          [
           0.0755287
          ],
          [
           0.08367438
          ],
          [
           0.08305648
          ],
          [
           0.09312071
          ],
          [
           0.09206562
          ],
          [
           0.095323764
          ]
         ],
         "hovertemplate": "Cluster=Cluster 0<br>PCA1=%{x}<br>PCA2=%{y}<br>Feature=%{customdata[0]}<extra></extra>",
         "legendgroup": "Cluster 0",
         "marker": {
          "color": "#636efa",
          "opacity": 0.5,
          "symbol": "circle"
         },
         "mode": "markers",
         "name": "Cluster 0",
         "orientation": "v",
         "showlegend": true,
         "textposition": "top center",
         "type": "scatter",
         "x": [
          1.8339610113183633,
          1.704099309384914,
          1.551193336319241,
          2.3500201857278213,
          1.5756789729990177,
          2.398728703845632,
          2.723393262806382,
          2.2826699863241493,
          1.993382223354031,
          1.662337288263627,
          2.715694867592138,
          2.003931831156871,
          1.7382632490001653,
          2.1593147345463812,
          2.627987349735933,
          2.4301344710789903,
          1.9965337709421314,
          1.7113676588228806,
          1.956639221331362,
          2.508157018623345,
          2.1006760685036063,
          1.5427097060053927,
          1.8969625660118044,
          1.8633617166377985,
          1.8235002008463486,
          2.0336574195433803,
          1.6098923118119657,
          1.941228793087558,
          1.916094905586456,
          2.3254712089724694,
          2.282553913362684,
          2.4150834750343866
         ],
         "xaxis": "x",
         "y": [
          0.28028794830733267,
          0.2854094271279803,
          -0.488385665191039,
          -0.12277868173694402,
          0.33250806758820817,
          0.22016860357728912,
          0.12643800770991415,
          -0.7651298518926076,
          0.580078238914865,
          -0.13307268025147445,
          1.4986891533085627,
          0.06427948446143317,
          1.07671369412502,
          -0.37639286979572906,
          -0.4382981913105604,
          0.12305354317596832,
          0.6809629425780475,
          -0.221626919538923,
          0.0919669496575738,
          -1.1621581297352443,
          -0.0774397308554284,
          -0.005206867174408844,
          -0.6185642106521239,
          0.10498353007337373,
          0.2821265366836859,
          0.05138691620650854,
          -0.041481937302763894,
          -0.29314267248007114,
          -0.17127326705141682,
          0.8997257801694127,
          0.15694815989563685,
          -0.0917743456709424
         ],
         "yaxis": "y"
        },
        {
         "customdata": [
          [
           0.014534884
          ],
          [
           0.01601794
          ],
          [
           0.010440593
          ],
          [
           0.0019248166
          ],
          [
           0.027159153
          ],
          [
           0
          ],
          [
           0.008770007
          ],
          [
           0.024023062
          ],
          [
           0
          ],
          [
           0.018272182
          ],
          [
           0.025025025
          ],
          [
           0.02604845
          ],
          [
           0.034352455
          ],
          [
           0.012471161
          ],
          [
           0.009794
          ],
          [
           0.00799105
          ],
          [
           0
          ],
          [
           0.010526316
          ],
          [
           0.014314343
          ],
          [
           0.020879732
          ],
          [
           0.029418254
          ],
          [
           0.010043186
          ],
          [
           0.030437429
          ],
          [
           0.022441652
          ],
          [
           0.023778642
          ],
          [
           0.015936255
          ],
          [
           0.018742971
          ],
          [
           0.031246245
          ],
          [
           0.031298906
          ],
          [
           0
          ],
          [
           0
          ],
          [
           0.026318097
          ],
          [
           0
          ],
          [
           0.0067962483
          ],
          [
           0.030179568
          ],
          [
           0.023277467
          ],
          [
           0.02034588
          ],
          [
           0.014633433
          ],
          [
           0
          ],
          [
           0.013854253
          ],
          [
           0.02743108
          ],
          [
           0.025540175
          ],
          [
           0.025157232
          ],
          [
           0.012477385
          ],
          [
           0.032913685
          ],
          [
           0.030410983
          ],
          [
           0.02149151
          ],
          [
           0
          ],
          [
           0.011411617
          ],
          [
           0.019466614
          ],
          [
           0.033647377
          ],
          [
           0
          ],
          [
           0.031397175
          ],
          [
           0.016836435
          ],
          [
           0.019148605
          ],
          [
           0.0064186226
          ],
          [
           0.03084278
          ],
          [
           0.034376074
          ],
          [
           0.02124345
          ],
          [
           0.011102476
          ],
          [
           0.011253658
          ],
          [
           0
          ],
          [
           0.023459861
          ],
          [
           0.004434
          ],
          [
           0
          ],
          [
           0.004487122
          ],
          [
           0.022853225
          ],
          [
           0
          ],
          [
           0.007442137
          ],
          [
           0.021688838
          ],
          [
           0.020460235
          ],
          [
           0
          ],
          [
           0.012124519
          ],
          [
           0
          ],
          [
           0.017099863
          ],
          [
           0.009790004
          ],
          [
           0.022082368
          ],
          [
           0.02480979
          ],
          [
           0.030591954
          ],
          [
           0.031595577
          ],
          [
           0.019595036
          ],
          [
           0.0136587145
          ],
          [
           0.004389045
          ],
          [
           0
          ],
          [
           0.018766128
          ],
          [
           0.018637592
          ],
          [
           0.0077309627
          ],
          [
           0.010253255
          ],
          [
           0
          ],
          [
           0.03410176
          ],
          [
           0.024353756
          ],
          [
           0.02734205
          ],
          [
           0.03033367
          ],
          [
           0.0055915904
          ],
          [
           0
          ],
          [
           0.034544703
          ],
          [
           0.024038462
          ],
          [
           0.011419871
          ],
          [
           0.02259887
          ],
          [
           0.013023377
          ],
          [
           0.034220207
          ],
          [
           0.025201613
          ],
          [
           0.010244852
          ],
          [
           0.011883188
          ],
          [
           0.021591278
          ],
          [
           0.0036374219
          ],
          [
           0.025422651
          ],
          [
           0.0237023
          ],
          [
           0.031585597
          ],
          [
           0.012588751
          ],
          [
           0.010436235
          ],
          [
           0.007933045
          ],
          [
           0.009605225
          ],
          [
           0.01499925
          ],
          [
           0.009081002
          ],
          [
           0.011191942
          ],
          [
           0.018087544
          ],
          [
           0.02196716
          ],
          [
           0.026571011
          ],
          [
           0
          ],
          [
           0.018738873
          ],
          [
           0.012133345
          ],
          [
           0
          ],
          [
           0.0037661947
          ],
          [
           0.0034925956
          ],
          [
           0.010625863
          ],
          [
           0.028629432
          ],
          [
           0.028084628
          ],
          [
           0.021547081
          ],
          [
           0.014927601
          ],
          [
           0.02985966
          ],
          [
           0.0066773505
          ],
          [
           0.028117092
          ],
          [
           0.008244023
          ],
          [
           0
          ],
          [
           0
          ],
          [
           0.009096698
          ],
          [
           0.012950852
          ],
          [
           0.01097725
          ],
          [
           0.008624655
          ],
          [
           0.013577732
          ],
          [
           0.028121484
          ],
          [
           0.012732366
          ],
          [
           0
          ],
          [
           0.016423058
          ],
          [
           0.023200614
          ],
          [
           0.029937431
          ],
          [
           0.023070712
          ],
          [
           0.0056372965
          ],
          [
           0.026285354
          ],
          [
           0
          ],
          [
           0.03398567
          ],
          [
           0.032914586
          ],
          [
           0.02928129
          ],
          [
           0.005127679
          ],
          [
           0.028431302
          ],
          [
           0.03002462
          ],
          [
           0
          ],
          [
           0.026786312
          ],
          [
           0.026977608
          ],
          [
           0.027750798
          ],
          [
           0.008627383
          ],
          [
           0
          ],
          [
           0.020828994
          ],
          [
           0.006160291
          ],
          [
           0.0245459
          ],
          [
           0.01599744
          ],
          [
           0.007933989
          ],
          [
           0.02374169
          ],
          [
           0.019714793
          ],
          [
           0.023637868
          ],
          [
           0
          ],
          [
           0.011383363
          ],
          [
           0.020993477
          ],
          [
           0.021688446
          ],
          [
           0
          ],
          [
           0.035168957
          ],
          [
           0.013739409
          ],
          [
           0.011644155
          ],
          [
           0.02226056
          ],
          [
           0.035423934
          ],
          [
           0.008397363
          ],
          [
           0
          ],
          [
           0
          ],
          [
           0.017028362
          ],
          [
           0.021045985
          ],
          [
           0.013770311
          ],
          [
           0.027436348
          ],
          [
           0.02187705
          ],
          [
           0.01557956
          ],
          [
           0.006656017
          ],
          [
           0.035399195
          ],
          [
           0.0057407753
          ],
          [
           0
          ],
          [
           0.018613655
          ],
          [
           0
          ],
          [
           0
          ],
          [
           0
          ],
          [
           0.033157416
          ],
          [
           0.026451528
          ],
          [
           0.034650035
          ],
          [
           0.032789573
          ],
          [
           0.01911315
          ],
          [
           0.01835199
          ],
          [
           0
          ],
          [
           0.013354701
          ],
          [
           0.023349483
          ],
          [
           0.006640547
          ],
          [
           0.013550135
          ],
          [
           0.028634151
          ],
          [
           0.027255382
          ],
          [
           0.009231053
          ],
          [
           0.017176228
          ],
          [
           0
          ],
          [
           0.008893632
          ],
          [
           0.011296882
          ],
          [
           0.025726782
          ],
          [
           0.025634453
          ],
          [
           0.0059329574
          ],
          [
           0.014324595
          ],
          [
           0.010908694
          ],
          [
           0.033134528
          ],
          [
           0.01533037
          ],
          [
           0.026130129
          ],
          [
           0
          ],
          [
           0.018424124
          ],
          [
           0.028194826
          ],
          [
           0.010737679
          ],
          [
           0.024698474
          ],
          [
           0.027229408
          ],
          [
           0.01455922
          ],
          [
           0.010220769
          ],
          [
           0.01190618
          ],
          [
           0.016708437
          ],
          [
           0.00957992
          ],
          [
           0.02116402
          ],
          [
           0
          ],
          [
           0.013296104
          ],
          [
           0.02019998
          ],
          [
           0.00783208
          ],
          [
           0.005764021
          ],
          [
           0.03179246
          ],
          [
           0.034672346
          ],
          [
           0.025823113
          ],
          [
           0.012976059
          ],
          [
           0.007931472
          ],
          [
           0.021415569
          ],
          [
           0.014016727
          ],
          [
           0.0254842
          ],
          [
           0.032565713
          ],
          [
           0
          ],
          [
           0
          ],
          [
           0.02303935
          ],
          [
           0
          ],
          [
           0.022569288
          ],
          [
           0.021869076
          ],
          [
           0.019316953
          ],
          [
           0.008500149
          ],
          [
           0
          ],
          [
           0.023155294
          ],
          [
           0.013963555
          ],
          [
           0
          ],
          [
           0.0270807
          ]
         ],
         "hovertemplate": "Cluster=Cluster 1<br>PCA1=%{x}<br>PCA2=%{y}<br>Feature=%{customdata[0]}<extra></extra>",
         "legendgroup": "Cluster 1",
         "marker": {
          "color": "#EF553B",
          "opacity": 0.5,
          "symbol": "circle"
         },
         "mode": "markers",
         "name": "Cluster 1",
         "orientation": "v",
         "showlegend": true,
         "textposition": "top center",
         "type": "scatter",
         "x": [
          -0.8711147717304908,
          -0.8107894488785862,
          -1.0376556810171886,
          -1.3840465251730416,
          -0.357605376308342,
          -1.462341076102649,
          -1.1056090506860026,
          -0.48517016708011995,
          -1.462341076102649,
          -0.7190950672462149,
          -0.44441393483834146,
          -0.4027847308850978,
          -0.06500794285810511,
          -0.9550595405755441,
          -1.063956738212364,
          -1.137294165836404,
          -1.462341076102649,
          -1.034168756820791,
          -0.8800855751136596,
          -0.6130293831314296,
          -0.2657133221195379,
          -1.0538207350417774,
          -0.2242570153582373,
          -0.5494961809376088,
          -0.49511228597630647,
          -0.814112075283255,
          -0.699945074277295,
          -0.19135730122272052,
          -0.18921525503052042,
          -1.462341076102649,
          -1.462341076102649,
          -0.39181644215207195,
          -1.462341076102649,
          -1.1858943769709192,
          -0.2347458591172879,
          -0.515498243841002,
          -0.6347445733955297,
          -0.8671061632154597,
          -1.462341076102649,
          -0.8988003702427385,
          -0.34654435043117027,
          -0.42345950737191723,
          -0.4390362411969291,
          -0.9548063696873428,
          -0.12353189972095031,
          -0.2253327359240572,
          -0.5881444615254745,
          -1.4623410761026494,
          -0.9981579539492769,
          -0.6705098955913673,
          -0.09368796540376419,
          -1.462341076102649,
          -0.18521801136158597,
          -0.7774960564743002,
          -0.6834453634179954,
          -1.201254818833311,
          -0.20776882087631518,
          -0.06404723453477755,
          -0.5982347022491131,
          -1.0107326636779927,
          -1.0045831454553706,
          -1.462341076102649,
          -0.5080791207781592,
          -1.281982067158676,
          -1.462341076102649,
          -1.2798212500290065,
          -0.5327548534503059,
          -1.4623410761026496,
          -1.1596219591879076,
          -0.5801179253216148,
          -0.6300930176540206,
          -1.4623410761026496,
          -0.9691596778301061,
          -1.462341076102649,
          -0.7667807492153745,
          -1.0641192555115395,
          -0.5641105395951995,
          -0.453168881911325,
          -0.21797149781066508,
          -0.17714775838307562,
          -0.6652861577317377,
          -0.9067541714315837,
          -1.2838106708955457,
          -1.4623410761026499,
          -0.6990031558328473,
          -0.7042315153965574,
          -1.1478735874188422,
          -1.0452758860902938,
          -1.4623410761026499,
          -0.07520539196325175,
          -0.4717187352407289,
          -0.35016579652252794,
          -0.22847754037014206,
          -1.234895483051477,
          -1.46234107610265,
          -0.05718801955627308,
          -0.4845437367633023,
          -0.9978221985127771,
          -0.54310110627367,
          -0.9325973768603663,
          -0.07038730334361251,
          -0.43723097327737825,
          -1.0456177027780449,
          -0.9789761394112885,
          -0.5840863022814641,
          -1.3143839631523613,
          -0.42823994046815755,
          -0.4982176165236155,
          -0.1775537106856289,
          -0.950276417799061,
          -1.0378329347334687,
          -1.1396536215344242,
          -1.0716353964772214,
          -0.852226056573321,
          -1.0929588783792081,
          -1.0070935263095477,
          -0.7266054879060296,
          -0.5687967960001223,
          -0.3815288319345629,
          -1.4623410761026492,
          -0.7001117586867049,
          -0.9688006623419276,
          -1.462341076102649,
          -1.3091459529401754,
          -1.3202749690091165,
          -1.0301195379223769,
          -0.29779976786841483,
          -0.3199603843338436,
          -0.5858840694025933,
          -0.8551404577062162,
          -0.2477585321317296,
          -1.1907307061685424,
          -0.31863986498311225,
          -1.127004169001216,
          -1.462341076102649,
          -1.4623410761026494,
          -1.0923204392083474,
          -0.9355474636100014,
          -1.0158264255811043,
          -1.1115214224534191,
          -0.9100482341897296,
          -0.318461209602481,
          -0.9444346596087229,
          -1.462341076102649,
          -0.7943107251017443,
          -0.5186243341738467,
          -0.2445950893380482,
          -0.5239083057177866,
          -1.2330363268200177,
          -0.393148326348898,
          -1.4623410761026492,
          -0.07992740975055682,
          -0.1234952291508796,
          -0.2712845212071476,
          -1.253765711392329,
          -0.30585895906339206,
          -0.24104857546528585,
          -1.462341076102649,
          -0.3727711572985175,
          -0.3649899502390523,
          -0.3335394055120752,
          -1.1114104636727,
          -1.4623410761026487,
          -0.6150932391824885,
          -1.2117628123580346,
          -0.4639029790491302,
          -0.8116233255194808,
          -1.1396152083546187,
          -0.4966153247553411,
          -0.6604148816323685,
          -0.5008384257990263,
          -1.4623410761026487,
          -0.9993072050693381,
          -0.6084026785200496,
          -0.5801338361061487,
          -1.4623410761026494,
          -0.03179561968930448,
          -0.9034718144649166,
          -0.9886991440747394,
          -0.5568623438176422,
          -0.021424061141965458,
          -1.1207668384010907,
          -1.4623410761026487,
          -1.4623410761026492,
          -0.7696891648626573,
          -0.6062668451103812,
          -0.9022148246038627,
          -0.3463300851994385,
          -0.5724621103974091,
          -0.8286211575831749,
          -1.1915984689922128,
          -0.022430380380958317,
          -1.2288271855956212,
          -1.4623410761026494,
          -0.7052051796444333,
          -1.462341076102649,
          -1.462341076102649,
          -1.462341076102649,
          -0.11361781411180125,
          -0.3863889704847579,
          -0.052903472578025836,
          -0.12858031588813734,
          -0.6848875623875956,
          -0.7158487368416729,
          -1.4623410761026487,
          -0.9191203362344347,
          -0.5125689168769006,
          -1.192227740520557,
          -0.9111707779214658,
          -0.2976077777350302,
          -0.35369109601590915,
          -1.0868553499004554,
          -0.7636745094803767,
          -1.4623410761026494,
          -1.1005804093510216,
          -1.0028249279986572,
          -0.415869002429945,
          -0.41962462947087503,
          -1.2210099140912098,
          -0.8796685610275717,
          -1.0186150178677136,
          -0.114548822303997,
          -0.8387573122850418,
          -0.39946233177735263,
          -1.4623410761026494,
          -0.7129146366422114,
          -0.3154779375022433,
          -1.0255712886318809,
          -0.4576968638929486,
          -0.3547476478746469,
          -0.8701248936355169,
          -1.0465973146287106,
          -0.9780409262260362,
          -0.7827025197678644,
          -1.072664710588149,
          -0.6014655764629646,
          -1.462341076102649,
          -0.9215038475233586,
          -0.6406792202612939,
          -1.143760498085366,
          -1.2278816304004219,
          -0.16913933016732186,
          -0.051995951734443685,
          -0.4119506307929175,
          -0.9345221271952077,
          -1.1397176056179454,
          -0.5912335024600466,
          -0.8921915228237298,
          -0.425736340638818,
          -0.13768613364292864,
          -1.4623410761026494,
          -1.4623410761026494,
          -0.5251839718092584,
          -1.4623410761026496,
          -0.5443044161783281,
          -0.5727864631049931,
          -0.6765975890512264,
          -1.116585900936422,
          -1.462341076102649,
          -0.5204677879762818,
          -0.8943543666842869,
          -1.462341076102649,
          -0.36079654932649774
         ],
         "xaxis": "x",
         "y": [
          0.5580702446400466,
          -0.009186999611470499,
          -1.2178716099651534,
          0.4754953113087237,
          0.2881376192655963,
          -0.08761609274150932,
          0.486342346214461,
          -0.33684064559672916,
          -0.6165683776763096,
          -0.25882701354629434,
          -0.17260972804505753,
          -0.14697828166626722,
          -0.3741268107875214,
          -0.8523669114730152,
          -0.20438455988064638,
          0.2564256675536308,
          -1.0857195766803451,
          -0.5060032821155181,
          -0.3854251214032519,
          0.7378946426877281,
          0.05701714890655565,
          -0.12768574103282976,
          0.06319181767745241,
          -0.1376222855921053,
          -0.30880914131183584,
          -0.34452420664459354,
          -0.1636214793884179,
          -0.18949821893756863,
          -0.19106950280315227,
          18.042312837451778,
          -0.2801979901142494,
          0.10115838365058161,
          -0.9479526386072316,
          0.30309309340774804,
          -0.06008440828390031,
          0.4034201770264648,
          -0.5334246106377177,
          -1.185760914790777,
          -0.6825274735052735,
          -0.6792981939535063,
          0.5792719265472824,
          0.5324131915369044,
          -0.16917406147672517,
          0.1299174543115673,
          -0.4155693464043855,
          0.18355021102301544,
          0.39227507671607004,
          -1.300445091857188,
          0.17271188235126708,
          -1.299228875509828,
          0.07208518682743253,
          -0.6954685723547485,
          -0.12661433060228522,
          0.20804135899848883,
          1.335674244054004,
          0.8060657149979279,
          -0.6940470805567692,
          -0.16082905051931815,
          0.19937231122408908,
          -1.1719414280598779,
          0.14980696094933998,
          -0.0719463669959115,
          0.37721456265585496,
          0.5368361940687953,
          0,
          0.7954246759002265,
          -0.3606121478110224,
          0.04468831566480487,
          -0.08784679134160922,
          0.3815064677568058,
          0.0341439474019966,
          0.20100359895488237,
          -0.26985861138472933,
          -0.6464545720353984,
          -0.2184590415139138,
          0.11993074428768014,
          -0.14184251463634232,
          0.11663907285251188,
          -0.2529209207075618,
          0.09391138371140957,
          -0.12769660851747683,
          -0.40206697213191755,
          0.5224312297490397,
          -0.09201167446573226,
          0.38929323003955524,
          0.35930498173495606,
          -0.7126435153272599,
          -0.07929982435232748,
          -0.4899913182090711,
          -0.3858955798649705,
          -0.11453079065522992,
          0.9446547158236057,
          -0.44872355285797055,
          -0.018112385061652116,
          -0.27262568599933734,
          0.37735937436559946,
          0.3004022400754154,
          0.08040275368611095,
          0.40171400428764686,
          -0.2673023539908262,
          -0.22933665182485413,
          -0.32175341752366854,
          -0.013738785340869005,
          0.017604599534937957,
          -0.3316435788887659,
          0.16520524753999122,
          -0.26696647355648323,
          -0.2826103590986598,
          -0.24865018606643172,
          -0.16982888847817748,
          -0.2793430133340818,
          -0.6982681435517912,
          0.20727976391969072,
          0.07893332140931478,
          -0.6138492589127426,
          0.1291316385211254,
          -0.16810990889873384,
          -0.5114061522858748,
          0.08774677657329324,
          -0.7577802005629107,
          0.3612400211887605,
          0.6226364060343286,
          -0.6931315853281756,
          -1.0397893382825845,
          0.10296750844642379,
          -0.2706814925395583,
          0.19879767470854345,
          -0.7068552220562433,
          0.20277316212557978,
          -0.29750141497426064,
          0.3508579403954687,
          -0.3219932837769376,
          0.24949288544837975,
          0.37972129344032546,
          -0.35424047606037123,
          0.5762104815610123,
          -0.23562026410452463,
          0.047741693922914615,
          -0.0665572389063048,
          0.15455521861478239,
          0.7560579900641408,
          0.16160157092738403,
          0.15531261615435277,
          -0.42910397337782435,
          0.287752940515434,
          -0.1503379113557861,
          -0.6910519804548257,
          0.08574803080579327,
          -0.08450287516546422,
          -0.7447097037089112,
          0.46273414467282314,
          -0.1766055191484624,
          -0.07316388370243997,
          -0.10091373674244433,
          0.523965781620329,
          -0.2209123193093372,
          0.34107730664699143,
          -0.5366982460774915,
          -0.2876424706587572,
          0.7977753334673714,
          -0.29263283236430715,
          -0.2561214835446987,
          -0.21091268859220916,
          0.1291683366912649,
          0.2371775424443331,
          0.5299709821060925,
          0.24519256564051792,
          0.5471376600562888,
          0.26637955458389423,
          0.5346919480118982,
          -0.3026256527174607,
          -0.24729283545803282,
          -0.38707518281613557,
          -0.33535055949433507,
          -0.39137210261673794,
          0.26429515445232066,
          0.22872459515666704,
          -0.15517842227903816,
          -0.6952631478237813,
          0.2598768406562062,
          0.745735708833649,
          0.13108272145168565,
          0.0755801431455996,
          -0.7086094162078632,
          0.14255056312908732,
          -0.4763575654053337,
          -0.17078025935751948,
          -0.8769551409946631,
          -0.019437899568975642,
          -0.09886047475691416,
          -0.07622506689659418,
          0.11851527310719827,
          -0.1407825694742514,
          -1.1462763061756418,
          0.1701678892745134,
          -0.7587558866271098,
          0.03490715093073257,
          -0.19628720646744433,
          -0.3402804748498177,
          -0.15667800355464298,
          0.10592969216933558,
          0.628363630721363,
          0.35358517759663693,
          -0.07492673459914809,
          0.02416098703477361,
          -0.4370322463445534,
          -0.25997874471697546,
          -0.3675979649620734,
          -0.23828339312076469,
          -0.4779911585703256,
          -0.26644659673750903,
          0.004151840935491755,
          0.6626726085967629,
          0.427105298668273,
          -0.4836307557407241,
          1.0505574649615093,
          0.9633534277382811,
          -0.04509100446167413,
          -0.5368001288314209,
          -0.1319340289565527,
          -0.24525957032740486,
          0.13123824402477305,
          0.048690830006807344,
          0.03432150866350558,
          0.4353440985170387,
          -0.018949769263361057,
          1.1819618593541734,
          -0.08634325266294825,
          0.2866858504150292,
          0.13488341495819925,
          -0.158057230748225,
          -0.06248239029965951,
          -0.12289783207167261,
          0.250829863667002,
          -0.3442246020949827,
          0.0978787815107381,
          0.6574617173105871,
          -0.21523241743587038,
          0.07674942487045772,
          0.029375682860731493,
          0.21286828326420487,
          -0.3776679693809631,
          0.2721257140121189,
          0.30482341008602176,
          -0.0599397551892582,
          0.4061734739245412,
          -0.5218967035596787,
          -0.34569189125838107,
          0.3343258459924582,
          -0.8153206005668009,
          -0.20325293252472945,
          -0.10510216043573267,
          -0.6392054218980955,
          -1.0127392092049825,
          1.1646887171650329,
          0.7091249525586583,
          0.3866325411422767,
          -0.4706075977473743,
          0.14780993865088507,
          -0.15675485372076853,
          -0.1230045946342438,
          0.5800062706234045,
          -0.47130501264219793
         ],
         "yaxis": "y"
        },
        {
         "customdata": [
          [
           0.048076924
          ],
          [
           0.062730335
          ],
          [
           0.06724267
          ],
          [
           0.038260426
          ],
          [
           0.06235969
          ],
          [
           0.049610287
          ],
          [
           0.054995418
          ],
          [
           0.053333335
          ],
          [
           0.066840135
          ],
          [
           0.056450877
          ],
          [
           0.049225643
          ],
          [
           0.051405072
          ],
          [
           0.0507228
          ],
          [
           0.03583908
          ],
          [
           0.043926008
          ],
          [
           0.046880126
          ],
          [
           0.06961711
          ],
          [
           0.06617039
          ],
          [
           0.043615744
          ],
          [
           0.046364985
          ],
          [
           0.035755787
          ],
          [
           0.05751605
          ],
          [
           0.047221784
          ],
          [
           0.057091985
          ],
          [
           0.0448263
          ],
          [
           0.06792863
          ],
          [
           0.051746443
          ],
          [
           0.045189716
          ],
          [
           0.05733945
          ],
          [
           0.05891723
          ],
          [
           0.037741028
          ],
          [
           0.06028388
          ],
          [
           0.039960764
          ],
          [
           0.05654281
          ],
          [
           0.050434295
          ],
          [
           0.06391819
          ],
          [
           0.058597475
          ],
          [
           0.047183976
          ],
          [
           0.04727884
          ],
          [
           0.055716515
          ],
          [
           0.05295909
          ],
          [
           0.047273874
          ],
          [
           0.04030633
          ],
          [
           0.04645491
          ],
          [
           0.046378154
          ],
          [
           0.035722792
          ],
          [
           0.055594865
          ],
          [
           0.06944445
          ],
          [
           0.03629325
          ],
          [
           0.06723141
          ],
          [
           0.05585174
          ],
          [
           0.05613641
          ],
          [
           0.04916421
          ],
          [
           0.061015002
          ],
          [
           0.044239853
          ],
          [
           0.03766301
          ],
          [
           0.05303432
          ],
          [
           0.051357772
          ],
          [
           0.040766407
          ],
          [
           0.04350882
          ],
          [
           0.03696516
          ],
          [
           0.052479666
          ],
          [
           0.05540166
          ],
          [
           0.058039803
          ],
          [
           0.06903979
          ],
          [
           0.03704047
          ],
          [
           0.051616233
          ],
          [
           0.03938171
          ],
          [
           0.060172495
          ],
          [
           0.056856103
          ],
          [
           0.050576303
          ],
          [
           0.060716454
          ],
          [
           0.06383251
          ],
          [
           0.038082544
          ],
          [
           0.06905481
          ],
          [
           0.036992997
          ],
          [
           0.03883495
          ],
          [
           0.03990025
          ],
          [
           0.06608415
          ],
          [
           0.0411679
          ],
          [
           0.07334451
          ],
          [
           0.037636433
          ],
          [
           0.047234423
          ],
          [
           0.045025684
          ],
          [
           0.056580286
          ],
          [
           0.069692746
          ],
          [
           0.035609998
          ],
          [
           0.035476476
          ],
          [
           0.06004203
          ],
          [
           0.050637186
          ],
          [
           0.07084662
          ],
          [
           0.05646282
          ],
          [
           0.039409976
          ],
          [
           0.04395808
          ],
          [
           0.046449214
          ],
          [
           0.044692736
          ],
          [
           0.044633448
          ],
          [
           0.061798822
          ],
          [
           0.054988217
          ],
          [
           0.0713691
          ],
          [
           0.040837757
          ],
          [
           0.06409594
          ],
          [
           0.04492363
          ],
          [
           0.064464755
          ],
          [
           0.03848057
          ]
         ],
         "hovertemplate": "Cluster=Cluster 2<br>PCA1=%{x}<br>PCA2=%{y}<br>Feature=%{customdata[0]}<extra></extra>",
         "legendgroup": "Cluster 2",
         "marker": {
          "color": "#00cc96",
          "opacity": 0.5,
          "symbol": "circle"
         },
         "mode": "markers",
         "name": "Cluster 2",
         "orientation": "v",
         "showlegend": true,
         "textposition": "top center",
         "type": "scatter",
         "x": [
          0.4932536025760447,
          1.0893011398419288,
          1.272846434920236,
          0.09395412939527946,
          1.074224686542069,
          0.5556252417331999,
          0.7746728007030396,
          0.7070653011837521,
          1.2564728738526036,
          0.8338756177060295,
          0.5399793338782841,
          0.6286305885543129,
          0.6008782405126605,
          -0.004537415155912844,
          0.32440941781386257,
          0.4445722085575836,
          1.369430049108808,
          1.2292299739786212,
          0.3117889835210201,
          0.4236181599193628,
          -0.007925503074093893,
          0.877202956962958,
          0.45846959695779044,
          0.859953545089515,
          0.3610299825612555,
          1.3007487989303559,
          0.642516309045859,
          0.37581246517542966,
          0.8700194650425083,
          0.934197963197669,
          0.0728268805025525,
          0.9897882744548964,
          0.1631177036420504,
          0.8376151066655027,
          0.5891429004337841,
          1.1376187072540338,
          0.9211914272001194,
          0.4569317059840604,
          0.46079045006190317,
          0.804004407758213,
          0.6918423171348943,
          0.4605884588639542,
          0.17717404835632128,
          0.4272759735182263,
          0.4241538229986936,
          -0.009267615632407186,
          0.7990561537679528,
          1.3624068772839553,
          0.013936521001568475,
          1.2723885073882022,
          0.809504841737464,
          0.8210842561279,
          0.5374804315186649,
          1.019527652187998,
          0.33717547366801803,
          0.06965336087866712,
          0.6949024913603813,
          0.6267065958758768,
          0.19588831312591515,
          0.3074397326856683,
          0.041267460549975536,
          0.6723411504216029,
          0.7911972869268309,
          0.8985073459235029,
          1.3459469433859927,
          0.04433066540108835,
          0.6372198361712137,
          0.139563832810877,
          0.9852574891445689,
          0.8503587358900285,
          0.5949192728762508,
          1.0073837837747859,
          1.1341334877845501,
          0.08671851071406934,
          1.346557917512121,
          0.042399702283713835,
          0.117323738188416,
          0.1606562295089078,
          1.2257220248169454,
          0.2122195969660709,
          1.521047097095897,
          0.06857233671800102,
          0.45898374259517966,
          0.3691402397980251,
          0.8391395113551993,
          1.3725067402439557,
          -0.013855679767061334,
          -0.01928686395076616,
          0.9799507121427946,
          0.5973957486062402,
          1.4194420393082066,
          0.8343614269938185,
          0.14071365217324416,
          0.32571395061441866,
          0.42704428218914653,
          0.3555971315334573,
          0.3531855111918557,
          1.0514105914261132,
          0.7743798907363219,
          1.4406946045705524,
          0.19879059175630728,
          1.144848870809117,
          0.3649890403473075,
          1.1598510737811474,
          0.10290871893135069
         ],
         "xaxis": "x",
         "y": [
          0.04914141477688902,
          -0.19122637187296154,
          -0.4441461778256443,
          -0.1200113127866489,
          0.25010229747199086,
          0.44516852400667917,
          0.0842882329988117,
          0.13855741679028638,
          -0.36285475663217714,
          -0.04837865037464198,
          -0.4429412072787837,
          0.2442476465013928,
          -0.6869726533203172,
          0.34492831314946454,
          -0.07403125327765839,
          0.026523374639922034,
          -0.38132815588525215,
          0.12472636406324153,
          -0.42822573344272175,
          -0.6661652794334786,
          0.02588540365745566,
          -0.4367677441194127,
          0.07059018035670453,
          0.0669698841470185,
          -1.0054298951500833,
          0.2679937652177356,
          0.02406779373487266,
          -0.3774740717726025,
          -0.28071549432106024,
          -0.2587049494192982,
          0.26329680085979473,
          0.16200993468825386,
          0.3378930823967943,
          -0.7456495026371751,
          0.12756602549081164,
          -0.07440225374307229,
          -0.4956017086630477,
          -0.07387177752889136,
          0.33569148598696286,
          0.2840152041743676,
          0.45088511338661497,
          0.548299694723649,
          0.08449494376367285,
          1.0724579009593287,
          0.5567242864395625,
          0.14409912519845658,
          0.05148218706734736,
          -0.502341844203877,
          -0.44059662288398516,
          -1.6121713837813536,
          -0.8548552179443982,
          0.03505423275704524,
          -0.7872063439561082,
          -0.15146987891088456,
          0.12081562310129432,
          -0.333604263124944,
          -0.08548469287170309,
          -0.5835820932917027,
          1.3051341365716373,
          0.13973661779075525,
          -0.014451740677683659,
          -0.2690672846880518,
          1.8845155989201325,
          -0.5362430885731214,
          -0.04643612210459363,
          -0.2224289825256319,
          0.42660119735477353,
          -0.6471334856682456,
          0.6048096874495473,
          0.10905576793363848,
          0.31307848664244,
          0.5860004823604785,
          -0.08955722252203066,
          0.5550837330286864,
          -0.022756415343384424,
          -0.734413866979672,
          0.0644321362763963,
          0.007429366045095122,
          -0.09750065085720054,
          -0.8676221702211913,
          -0.4758428178464013,
          -0.016681830466752114,
          -0.08824326712455469,
          -0.23414474205019395,
          -0.6162679606794955,
          -0.16266088625034839,
          0.7218087745231452,
          0.12988030569619533,
          0.03957179116492741,
          0.010720838642105957,
          -0.8322488617374936,
          -0.2133164782262864,
          -0.2055160862866999,
          -0.03318372288261926,
          0.8537002027430014,
          0.49441803834407444,
          -0.3445210317037814,
          -0.27476566064374097,
          -0.2977950072605299,
          -0.37507404935891087,
          -0.5466812137709904,
          0.7271266858443816,
          0.1324385670534898,
          -0.17149166378608388,
          -0.5993956628458363
         ],
         "yaxis": "y"
        },
        {
         "customdata": [
          [
           0.18133514
          ],
          [
           0.113433905
          ],
          [
           0.14104103
          ],
          [
           0.10820444
          ],
          [
           0.12647317
          ],
          [
           0.20683454
          ],
          [
           0.1285089
          ],
          [
           0.24383983
          ],
          [
           0.11573465
          ],
          [
           0.122552305
          ],
          [
           0.18261917
          ],
          [
           0.11975496
          ],
          [
           0.12752858
          ],
          [
           0.16331993
          ],
          [
           0.1499188
          ],
          [
           0.14710003
          ],
          [
           0.19543572
          ]
         ],
         "hovertemplate": "Cluster=Cluster 3<br>PCA1=%{x}<br>PCA2=%{y}<br>Feature=%{customdata[0]}<extra></extra>",
         "legendgroup": "Cluster 3",
         "marker": {
          "color": "#ab63fa",
          "opacity": 0.5,
          "symbol": "circle"
         },
         "mode": "markers",
         "name": "Cluster 3",
         "orientation": "v",
         "showlegend": true,
         "textposition": "top center",
         "type": "scatter",
         "x": [
          5.913713765973724,
          3.1517382519832617,
          4.2746956641173615,
          2.939022579133064,
          3.6821283457886724,
          6.950936900596472,
          3.7649341297579713,
          8.456177732211046,
          3.2453242743655144,
          3.5226416722394913,
          5.965943568005961,
          3.4088559239372356,
          3.7250583700260838,
          5.1809206121970375,
          4.635811072790463,
          4.521154019620838,
          6.487274212628656
         ],
         "xaxis": "x",
         "y": [
          0.09438169066570944,
          -0.1973702185534234,
          -0.15746267791478968,
          0.9479006005720095,
          -0.37172398130634304,
          -0.2973722324240088,
          -0.181404149264002,
          0.40820035729395326,
          -0.09748620532681206,
          0.034205639961175587,
          0.281008022370247,
          -0.19783801918585456,
          -0.40581989011533925,
          -0.43138641437509034,
          1.1381940597770739,
          0.49633312847672906,
          0.6180296295951013
         ],
         "yaxis": "y"
        }
       ],
       "layout": {
        "height": 600,
        "legend": {
         "title": {
          "text": "Cluster"
         },
         "tracegroupgap": 0
        },
        "margin": {
         "t": 60
        },
        "plot_bgcolor": "rgb(240,240,240)",
        "template": {
         "data": {
          "bar": [
           {
            "error_x": {
             "color": "#2a3f5f"
            },
            "error_y": {
             "color": "#2a3f5f"
            },
            "marker": {
             "line": {
              "color": "#E5ECF6",
              "width": 0.5
             },
             "pattern": {
              "fillmode": "overlay",
              "size": 10,
              "solidity": 0.2
             }
            },
            "type": "bar"
           }
          ],
          "barpolar": [
           {
            "marker": {
             "line": {
              "color": "#E5ECF6",
              "width": 0.5
             },
             "pattern": {
              "fillmode": "overlay",
              "size": 10,
              "solidity": 0.2
             }
            },
            "type": "barpolar"
           }
          ],
          "carpet": [
           {
            "aaxis": {
             "endlinecolor": "#2a3f5f",
             "gridcolor": "white",
             "linecolor": "white",
             "minorgridcolor": "white",
             "startlinecolor": "#2a3f5f"
            },
            "baxis": {
             "endlinecolor": "#2a3f5f",
             "gridcolor": "white",
             "linecolor": "white",
             "minorgridcolor": "white",
             "startlinecolor": "#2a3f5f"
            },
            "type": "carpet"
           }
          ],
          "choropleth": [
           {
            "colorbar": {
             "outlinewidth": 0,
             "ticks": ""
            },
            "type": "choropleth"
           }
          ],
          "contour": [
           {
            "colorbar": {
             "outlinewidth": 0,
             "ticks": ""
            },
            "colorscale": [
             [
              0,
              "#0d0887"
             ],
             [
              0.1111111111111111,
              "#46039f"
             ],
             [
              0.2222222222222222,
              "#7201a8"
             ],
             [
              0.3333333333333333,
              "#9c179e"
             ],
             [
              0.4444444444444444,
              "#bd3786"
             ],
             [
              0.5555555555555556,
              "#d8576b"
             ],
             [
              0.6666666666666666,
              "#ed7953"
             ],
             [
              0.7777777777777778,
              "#fb9f3a"
             ],
             [
              0.8888888888888888,
              "#fdca26"
             ],
             [
              1,
              "#f0f921"
             ]
            ],
            "type": "contour"
           }
          ],
          "contourcarpet": [
           {
            "colorbar": {
             "outlinewidth": 0,
             "ticks": ""
            },
            "type": "contourcarpet"
           }
          ],
          "heatmap": [
           {
            "colorbar": {
             "outlinewidth": 0,
             "ticks": ""
            },
            "colorscale": [
             [
              0,
              "#0d0887"
             ],
             [
              0.1111111111111111,
              "#46039f"
             ],
             [
              0.2222222222222222,
              "#7201a8"
             ],
             [
              0.3333333333333333,
              "#9c179e"
             ],
             [
              0.4444444444444444,
              "#bd3786"
             ],
             [
              0.5555555555555556,
              "#d8576b"
             ],
             [
              0.6666666666666666,
              "#ed7953"
             ],
             [
              0.7777777777777778,
              "#fb9f3a"
             ],
             [
              0.8888888888888888,
              "#fdca26"
             ],
             [
              1,
              "#f0f921"
             ]
            ],
            "type": "heatmap"
           }
          ],
          "heatmapgl": [
           {
            "colorbar": {
             "outlinewidth": 0,
             "ticks": ""
            },
            "colorscale": [
             [
              0,
              "#0d0887"
             ],
             [
              0.1111111111111111,
              "#46039f"
             ],
             [
              0.2222222222222222,
              "#7201a8"
             ],
             [
              0.3333333333333333,
              "#9c179e"
             ],
             [
              0.4444444444444444,
              "#bd3786"
             ],
             [
              0.5555555555555556,
              "#d8576b"
             ],
             [
              0.6666666666666666,
              "#ed7953"
             ],
             [
              0.7777777777777778,
              "#fb9f3a"
             ],
             [
              0.8888888888888888,
              "#fdca26"
             ],
             [
              1,
              "#f0f921"
             ]
            ],
            "type": "heatmapgl"
           }
          ],
          "histogram": [
           {
            "marker": {
             "pattern": {
              "fillmode": "overlay",
              "size": 10,
              "solidity": 0.2
             }
            },
            "type": "histogram"
           }
          ],
          "histogram2d": [
           {
            "colorbar": {
             "outlinewidth": 0,
             "ticks": ""
            },
            "colorscale": [
             [
              0,
              "#0d0887"
             ],
             [
              0.1111111111111111,
              "#46039f"
             ],
             [
              0.2222222222222222,
              "#7201a8"
             ],
             [
              0.3333333333333333,
              "#9c179e"
             ],
             [
              0.4444444444444444,
              "#bd3786"
             ],
             [
              0.5555555555555556,
              "#d8576b"
             ],
             [
              0.6666666666666666,
              "#ed7953"
             ],
             [
              0.7777777777777778,
              "#fb9f3a"
             ],
             [
              0.8888888888888888,
              "#fdca26"
             ],
             [
              1,
              "#f0f921"
             ]
            ],
            "type": "histogram2d"
           }
          ],
          "histogram2dcontour": [
           {
            "colorbar": {
             "outlinewidth": 0,
             "ticks": ""
            },
            "colorscale": [
             [
              0,
              "#0d0887"
             ],
             [
              0.1111111111111111,
              "#46039f"
             ],
             [
              0.2222222222222222,
              "#7201a8"
             ],
             [
              0.3333333333333333,
              "#9c179e"
             ],
             [
              0.4444444444444444,
              "#bd3786"
             ],
             [
              0.5555555555555556,
              "#d8576b"
             ],
             [
              0.6666666666666666,
              "#ed7953"
             ],
             [
              0.7777777777777778,
              "#fb9f3a"
             ],
             [
              0.8888888888888888,
              "#fdca26"
             ],
             [
              1,
              "#f0f921"
             ]
            ],
            "type": "histogram2dcontour"
           }
          ],
          "mesh3d": [
           {
            "colorbar": {
             "outlinewidth": 0,
             "ticks": ""
            },
            "type": "mesh3d"
           }
          ],
          "parcoords": [
           {
            "line": {
             "colorbar": {
              "outlinewidth": 0,
              "ticks": ""
             }
            },
            "type": "parcoords"
           }
          ],
          "pie": [
           {
            "automargin": true,
            "type": "pie"
           }
          ],
          "scatter": [
           {
            "fillpattern": {
             "fillmode": "overlay",
             "size": 10,
             "solidity": 0.2
            },
            "type": "scatter"
           }
          ],
          "scatter3d": [
           {
            "line": {
             "colorbar": {
              "outlinewidth": 0,
              "ticks": ""
             }
            },
            "marker": {
             "colorbar": {
              "outlinewidth": 0,
              "ticks": ""
             }
            },
            "type": "scatter3d"
           }
          ],
          "scattercarpet": [
           {
            "marker": {
             "colorbar": {
              "outlinewidth": 0,
              "ticks": ""
             }
            },
            "type": "scattercarpet"
           }
          ],
          "scattergeo": [
           {
            "marker": {
             "colorbar": {
              "outlinewidth": 0,
              "ticks": ""
             }
            },
            "type": "scattergeo"
           }
          ],
          "scattergl": [
           {
            "marker": {
             "colorbar": {
              "outlinewidth": 0,
              "ticks": ""
             }
            },
            "type": "scattergl"
           }
          ],
          "scattermapbox": [
           {
            "marker": {
             "colorbar": {
              "outlinewidth": 0,
              "ticks": ""
             }
            },
            "type": "scattermapbox"
           }
          ],
          "scatterpolar": [
           {
            "marker": {
             "colorbar": {
              "outlinewidth": 0,
              "ticks": ""
             }
            },
            "type": "scatterpolar"
           }
          ],
          "scatterpolargl": [
           {
            "marker": {
             "colorbar": {
              "outlinewidth": 0,
              "ticks": ""
             }
            },
            "type": "scatterpolargl"
           }
          ],
          "scatterternary": [
           {
            "marker": {
             "colorbar": {
              "outlinewidth": 0,
              "ticks": ""
             }
            },
            "type": "scatterternary"
           }
          ],
          "surface": [
           {
            "colorbar": {
             "outlinewidth": 0,
             "ticks": ""
            },
            "colorscale": [
             [
              0,
              "#0d0887"
             ],
             [
              0.1111111111111111,
              "#46039f"
             ],
             [
              0.2222222222222222,
              "#7201a8"
             ],
             [
              0.3333333333333333,
              "#9c179e"
             ],
             [
              0.4444444444444444,
              "#bd3786"
             ],
             [
              0.5555555555555556,
              "#d8576b"
             ],
             [
              0.6666666666666666,
              "#ed7953"
             ],
             [
              0.7777777777777778,
              "#fb9f3a"
             ],
             [
              0.8888888888888888,
              "#fdca26"
             ],
             [
              1,
              "#f0f921"
             ]
            ],
            "type": "surface"
           }
          ],
          "table": [
           {
            "cells": {
             "fill": {
              "color": "#EBF0F8"
             },
             "line": {
              "color": "white"
             }
            },
            "header": {
             "fill": {
              "color": "#C8D4E3"
             },
             "line": {
              "color": "white"
             }
            },
            "type": "table"
           }
          ]
         },
         "layout": {
          "annotationdefaults": {
           "arrowcolor": "#2a3f5f",
           "arrowhead": 0,
           "arrowwidth": 1
          },
          "autotypenumbers": "strict",
          "coloraxis": {
           "colorbar": {
            "outlinewidth": 0,
            "ticks": ""
           }
          },
          "colorscale": {
           "diverging": [
            [
             0,
             "#8e0152"
            ],
            [
             0.1,
             "#c51b7d"
            ],
            [
             0.2,
             "#de77ae"
            ],
            [
             0.3,
             "#f1b6da"
            ],
            [
             0.4,
             "#fde0ef"
            ],
            [
             0.5,
             "#f7f7f7"
            ],
            [
             0.6,
             "#e6f5d0"
            ],
            [
             0.7,
             "#b8e186"
            ],
            [
             0.8,
             "#7fbc41"
            ],
            [
             0.9,
             "#4d9221"
            ],
            [
             1,
             "#276419"
            ]
           ],
           "sequential": [
            [
             0,
             "#0d0887"
            ],
            [
             0.1111111111111111,
             "#46039f"
            ],
            [
             0.2222222222222222,
             "#7201a8"
            ],
            [
             0.3333333333333333,
             "#9c179e"
            ],
            [
             0.4444444444444444,
             "#bd3786"
            ],
            [
             0.5555555555555556,
             "#d8576b"
            ],
            [
             0.6666666666666666,
             "#ed7953"
            ],
            [
             0.7777777777777778,
             "#fb9f3a"
            ],
            [
             0.8888888888888888,
             "#fdca26"
            ],
            [
             1,
             "#f0f921"
            ]
           ],
           "sequentialminus": [
            [
             0,
             "#0d0887"
            ],
            [
             0.1111111111111111,
             "#46039f"
            ],
            [
             0.2222222222222222,
             "#7201a8"
            ],
            [
             0.3333333333333333,
             "#9c179e"
            ],
            [
             0.4444444444444444,
             "#bd3786"
            ],
            [
             0.5555555555555556,
             "#d8576b"
            ],
            [
             0.6666666666666666,
             "#ed7953"
            ],
            [
             0.7777777777777778,
             "#fb9f3a"
            ],
            [
             0.8888888888888888,
             "#fdca26"
            ],
            [
             1,
             "#f0f921"
            ]
           ]
          },
          "colorway": [
           "#636efa",
           "#EF553B",
           "#00cc96",
           "#ab63fa",
           "#FFA15A",
           "#19d3f3",
           "#FF6692",
           "#B6E880",
           "#FF97FF",
           "#FECB52"
          ],
          "font": {
           "color": "#2a3f5f"
          },
          "geo": {
           "bgcolor": "white",
           "lakecolor": "white",
           "landcolor": "#E5ECF6",
           "showlakes": true,
           "showland": true,
           "subunitcolor": "white"
          },
          "hoverlabel": {
           "align": "left"
          },
          "hovermode": "closest",
          "mapbox": {
           "style": "light"
          },
          "paper_bgcolor": "white",
          "plot_bgcolor": "#E5ECF6",
          "polar": {
           "angularaxis": {
            "gridcolor": "white",
            "linecolor": "white",
            "ticks": ""
           },
           "bgcolor": "#E5ECF6",
           "radialaxis": {
            "gridcolor": "white",
            "linecolor": "white",
            "ticks": ""
           }
          },
          "scene": {
           "xaxis": {
            "backgroundcolor": "#E5ECF6",
            "gridcolor": "white",
            "gridwidth": 2,
            "linecolor": "white",
            "showbackground": true,
            "ticks": "",
            "zerolinecolor": "white"
           },
           "yaxis": {
            "backgroundcolor": "#E5ECF6",
            "gridcolor": "white",
            "gridwidth": 2,
            "linecolor": "white",
            "showbackground": true,
            "ticks": "",
            "zerolinecolor": "white"
           },
           "zaxis": {
            "backgroundcolor": "#E5ECF6",
            "gridcolor": "white",
            "gridwidth": 2,
            "linecolor": "white",
            "showbackground": true,
            "ticks": "",
            "zerolinecolor": "white"
           }
          },
          "shapedefaults": {
           "line": {
            "color": "#2a3f5f"
           }
          },
          "ternary": {
           "aaxis": {
            "gridcolor": "white",
            "linecolor": "white",
            "ticks": ""
           },
           "baxis": {
            "gridcolor": "white",
            "linecolor": "white",
            "ticks": ""
           },
           "bgcolor": "#E5ECF6",
           "caxis": {
            "gridcolor": "white",
            "linecolor": "white",
            "ticks": ""
           }
          },
          "title": {
           "x": 0.05
          },
          "xaxis": {
           "automargin": true,
           "gridcolor": "white",
           "linecolor": "white",
           "ticks": "",
           "title": {
            "standoff": 15
           },
           "zerolinecolor": "white",
           "zerolinewidth": 2
          },
          "yaxis": {
           "automargin": true,
           "gridcolor": "white",
           "linecolor": "white",
           "ticks": "",
           "title": {
            "standoff": 15
           },
           "zerolinecolor": "white",
           "zerolinewidth": 2
          }
         }
        },
        "title": {
         "text": "2D Cluster PCA Plot"
        },
        "xaxis": {
         "anchor": "y",
         "domain": [
          0,
          1
         ],
         "title": {
          "text": "PCA1"
         }
        },
        "yaxis": {
         "anchor": "x",
         "domain": [
          0,
          1
         ],
         "title": {
          "text": "PCA2"
         }
        }
       }
      }
     },
     "metadata": {},
     "output_type": "display_data"
    }
   ],
   "source": [
    "plot_model(modelo, plot = 'cluster', feature = 'Porcetagem de Casos', label=False)"
   ]
  },
  {
   "cell_type": "code",
   "execution_count": null,
   "id": "1973e54f",
   "metadata": {},
   "outputs": [],
   "source": []
  }
 ],
 "metadata": {
  "kernelspec": {
   "display_name": ".venv",
   "language": "python",
   "name": "python3"
  },
  "language_info": {
   "codemirror_mode": {
    "name": "ipython",
    "version": 3
   },
   "file_extension": ".py",
   "mimetype": "text/x-python",
   "name": "python",
   "nbconvert_exporter": "python",
   "pygments_lexer": "ipython3",
   "version": "3.11.4"
  }
 },
 "nbformat": 4,
 "nbformat_minor": 5
}
